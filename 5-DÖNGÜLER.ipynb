{
 "cells": [
  {
   "cell_type": "code",
   "execution_count": 1,
   "id": "0ecf13e0",
   "metadata": {},
   "outputs": [],
   "source": [
    "# for loop and while loop"
   ]
  },
  {
   "cell_type": "code",
   "execution_count": 7,
   "id": "da2cd47c",
   "metadata": {},
   "outputs": [],
   "source": [
    "num_list = [10,20,30,40,40,50,60,70,80,90]\n"
   ]
  },
  {
   "cell_type": "code",
   "execution_count": 6,
   "id": "95bec39f",
   "metadata": {},
   "outputs": [
    {
     "name": "stdout",
     "output_type": "stream",
     "text": [
      "2.0\n",
      "4.0\n",
      "6.0\n",
      "8.0\n",
      "8.0\n",
      "10.0\n",
      "12.0\n",
      "14.0\n",
      "16.0\n"
     ]
    }
   ],
   "source": [
    "print(\"for loop started\")\n",
    "for i in num_list:\n",
    "    int(i)\n",
    "    print(i/5)\n",
    "print(\"for loop started\")"
   ]
  },
  {
   "cell_type": "code",
   "execution_count": 16,
   "id": "57dbb652",
   "metadata": {},
   "outputs": [
    {
     "name": "stdout",
     "output_type": "stream",
     "text": [
      "30\n",
      "60\n",
      "90\n"
     ]
    }
   ],
   "source": [
    "for x in num_list:\n",
    "    int(x)\n",
    "    if x % 6 == 0:\n",
    "        print(x)\n",
    "        "
   ]
  },
  {
   "cell_type": "code",
   "execution_count": 17,
   "id": "8bf5a952",
   "metadata": {},
   "outputs": [],
   "source": [
    "my_list = [1,2,3,4,5,6,7,8,9,0]"
   ]
  },
  {
   "cell_type": "code",
   "execution_count": 18,
   "id": "fc79ded1",
   "metadata": {},
   "outputs": [
    {
     "name": "stdout",
     "output_type": "stream",
     "text": [
      "2\n",
      "4\n",
      "6\n",
      "8\n",
      "0\n"
     ]
    }
   ],
   "source": [
    "for i in my_list:\n",
    "    if i % 2 == 0:\n",
    "        print(i)"
   ]
  },
  {
   "cell_type": "code",
   "execution_count": 19,
   "id": "13d84e6d",
   "metadata": {},
   "outputs": [],
   "source": [
    "my_list1 = [\"hello world\"]"
   ]
  },
  {
   "cell_type": "code",
   "execution_count": 20,
   "id": "0653a664",
   "metadata": {},
   "outputs": [
    {
     "name": "stdout",
     "output_type": "stream",
     "text": [
      "hello world\n"
     ]
    }
   ],
   "source": [
    "for z in my_list1:\n",
    "    print(z)\n",
    "    "
   ]
  },
  {
   "cell_type": "code",
   "execution_count": 21,
   "id": "0cb806a0",
   "metadata": {},
   "outputs": [],
   "source": [
    "# countinue break pass"
   ]
  },
  {
   "cell_type": "code",
   "execution_count": 22,
   "id": "b539a26b",
   "metadata": {},
   "outputs": [],
   "source": [
    "my_lastlist =[10,2,4,5,6,7,8,8,9]"
   ]
  },
  {
   "cell_type": "code",
   "execution_count": 25,
   "id": "5e9485e0",
   "metadata": {},
   "outputs": [
    {
     "name": "stdout",
     "output_type": "stream",
     "text": [
      "10\n",
      "2\n",
      "4\n",
      "yes\n"
     ]
    }
   ],
   "source": [
    "for n in my_lastlist:\n",
    "    print(n)\n",
    "    if n == 4:\n",
    "        print(\"yes\")\n",
    "        break"
   ]
  },
  {
   "cell_type": "code",
   "execution_count": 27,
   "id": "3b85076c",
   "metadata": {},
   "outputs": [
    {
     "name": "stdout",
     "output_type": "stream",
     "text": [
      "10\n",
      "2\n",
      "5\n",
      "6\n",
      "7\n",
      "8\n",
      "8\n",
      "9\n"
     ]
    }
   ],
   "source": [
    "\n",
    "for n in my_lastlist:\n",
    "    \n",
    "    if n == 4:\n",
    "        continue\n",
    "    print(n)\n",
    "        "
   ]
  },
  {
   "cell_type": "code",
   "execution_count": 28,
   "id": "b9194cbe",
   "metadata": {},
   "outputs": [],
   "source": [
    "# while \n"
   ]
  },
  {
   "cell_type": "code",
   "execution_count": 29,
   "id": "00cf4cae",
   "metadata": {},
   "outputs": [],
   "source": [
    "x = 0"
   ]
  },
  {
   "cell_type": "code",
   "execution_count": 30,
   "id": "49dd3a20",
   "metadata": {},
   "outputs": [
    {
     "name": "stdout",
     "output_type": "stream",
     "text": [
      "0\n",
      "1\n",
      "2\n",
      "3\n",
      "4\n",
      "5\n",
      "6\n",
      "7\n",
      "8\n",
      "9\n"
     ]
    }
   ],
   "source": [
    " while x < 10:\n",
    "        print(x)\n",
    "        x = x+1"
   ]
  },
  {
   "cell_type": "code",
   "execution_count": 35,
   "id": "bb0fc043",
   "metadata": {},
   "outputs": [
    {
     "data": {
      "text/plain": [
       "range(0, 10)"
      ]
     },
     "execution_count": 35,
     "metadata": {},
     "output_type": "execute_result"
    }
   ],
   "source": [
    "range(10)"
   ]
  },
  {
   "cell_type": "code",
   "execution_count": 32,
   "id": "e7eda145",
   "metadata": {},
   "outputs": [],
   "source": [
    "last_list =[10,20,30,40,50]"
   ]
  },
  {
   "cell_type": "code",
   "execution_count": 33,
   "id": "aa1078e6",
   "metadata": {},
   "outputs": [
    {
     "name": "stdout",
     "output_type": "stream",
     "text": [
      "yes\n",
      "yes\n",
      "yes\n",
      "yes\n"
     ]
    }
   ],
   "source": [
    "while 20 in last_list:\n",
    "    print(\"yes\")\n",
    "    last_list.pop()"
   ]
  },
  {
   "cell_type": "code",
   "execution_count": 34,
   "id": "5a454cbf",
   "metadata": {},
   "outputs": [],
   "source": [
    "sayı_list = []"
   ]
  },
  {
   "cell_type": "code",
   "execution_count": 36,
   "id": "5dbc737a",
   "metadata": {},
   "outputs": [],
   "source": [
    "\n",
    "    "
   ]
  },
  {
   "cell_type": "code",
   "execution_count": null,
   "id": "8af5158c",
   "metadata": {},
   "outputs": [],
   "source": []
  },
  {
   "cell_type": "code",
   "execution_count": null,
   "id": "f8743a5e",
   "metadata": {},
   "outputs": [],
   "source": []
  }
 ],
 "metadata": {
  "kernelspec": {
   "display_name": "Python 3 (ipykernel)",
   "language": "python",
   "name": "python3"
  },
  "language_info": {
   "codemirror_mode": {
    "name": "ipython",
    "version": 3
   },
   "file_extension": ".py",
   "mimetype": "text/x-python",
   "name": "python",
   "nbconvert_exporter": "python",
   "pygments_lexer": "ipython3",
   "version": "3.11.5"
  }
 },
 "nbformat": 4,
 "nbformat_minor": 5
}
