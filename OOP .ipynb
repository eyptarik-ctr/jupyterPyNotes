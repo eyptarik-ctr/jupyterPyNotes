{
 "cells": [
  {
   "cell_type": "markdown",
   "id": "0ae7bd8b",
   "metadata": {},
   "source": [
    "# OOP "
   ]
  },
  {
   "cell_type": "markdown",
   "id": "6ca2353c",
   "metadata": {},
   "source": [
    "inheritance"
   ]
  },
  {
   "cell_type": "code",
   "execution_count": 1,
   "id": "07478134",
   "metadata": {},
   "outputs": [],
   "source": [
    "# kalıtım almak\n"
   ]
  },
  {
   "cell_type": "code",
   "execution_count": 5,
   "id": "280b49bb",
   "metadata": {},
   "outputs": [],
   "source": [
    "class Phone():\n",
    "    name = \"\"\n",
    "    def __init__(self,name):\n",
    "        self.name = name\n",
    "        print(\"test\")\n",
    "    def test(self):\n",
    "        print(\"test2\")\n",
    "    def test2(self):\n",
    "        print(\"test3\")"
   ]
  },
  {
   "cell_type": "code",
   "execution_count": 19,
   "id": "186d101d",
   "metadata": {},
   "outputs": [],
   "source": [
    "class Phoneplus(Phone):\n",
    "    def __init__(self,name):\n",
    "        print(\"intheritane\")\n",
    "    def test2(self): # üzerine yazma\n",
    "        print(\"overrideed\")"
   ]
  },
  {
   "cell_type": "code",
   "execution_count": 20,
   "id": "b25d4a46",
   "metadata": {},
   "outputs": [
    {
     "name": "stdout",
     "output_type": "stream",
     "text": [
      "test\n"
     ]
    }
   ],
   "source": [
    "phone1 = Phone(\"iphone\")"
   ]
  },
  {
   "cell_type": "code",
   "execution_count": 21,
   "id": "af0d5dde",
   "metadata": {},
   "outputs": [
    {
     "name": "stdout",
     "output_type": "stream",
     "text": [
      "test3\n"
     ]
    }
   ],
   "source": [
    "phone1.test2()"
   ]
  },
  {
   "cell_type": "code",
   "execution_count": 22,
   "id": "5c710089",
   "metadata": {},
   "outputs": [
    {
     "name": "stdout",
     "output_type": "stream",
     "text": [
      "intheritane\n"
     ]
    }
   ],
   "source": [
    "phone2 = Phoneplus(\"samsung\")"
   ]
  },
  {
   "cell_type": "code",
   "execution_count": 23,
   "id": "c4ac2e71",
   "metadata": {},
   "outputs": [
    {
     "name": "stdout",
     "output_type": "stream",
     "text": [
      "test2\n"
     ]
    }
   ],
   "source": [
    "phone2.test()"
   ]
  },
  {
   "cell_type": "code",
   "execution_count": 24,
   "id": "014822e8",
   "metadata": {},
   "outputs": [],
   "source": [
    "phone2.name = \"xiaomi\""
   ]
  },
  {
   "cell_type": "code",
   "execution_count": 25,
   "id": "78565987",
   "metadata": {},
   "outputs": [
    {
     "data": {
      "text/plain": [
       "'xiaomi'"
      ]
     },
     "execution_count": 25,
     "metadata": {},
     "output_type": "execute_result"
    }
   ],
   "source": [
    "phone2.name"
   ]
  },
  {
   "cell_type": "code",
   "execution_count": 26,
   "id": "da800dac",
   "metadata": {},
   "outputs": [
    {
     "name": "stdout",
     "output_type": "stream",
     "text": [
      "overrideed\n"
     ]
    }
   ],
   "source": [
    "phone2.test2()"
   ]
  },
  {
   "cell_type": "code",
   "execution_count": 27,
   "id": "036ac2d1",
   "metadata": {},
   "outputs": [],
   "source": [
    "# polymorphism"
   ]
  },
  {
   "cell_type": "code",
   "execution_count": 28,
   "id": "58cd8a63",
   "metadata": {},
   "outputs": [],
   "source": [
    "class Apple():\n",
    "    def __init__(self,name):\n",
    "        self.name = name\n",
    "    def info(self):\n",
    "        return f\"100 calories{self.name}\"\n",
    "    \n",
    "    \n",
    "class Banana():\n",
    "    def __init__(self,name):\n",
    "        self.name = name\n",
    "    def info(self):\n",
    "        return f\"200 calories{self.name}\""
   ]
  },
  {
   "cell_type": "code",
   "execution_count": 29,
   "id": "3ae72d65",
   "metadata": {},
   "outputs": [],
   "source": [
    "banana = Banana(\"banana\")"
   ]
  },
  {
   "cell_type": "code",
   "execution_count": 30,
   "id": "8d45405e",
   "metadata": {},
   "outputs": [],
   "source": [
    "aplee =Apple(\"apple\")"
   ]
  },
  {
   "cell_type": "code",
   "execution_count": 31,
   "id": "4b029091",
   "metadata": {},
   "outputs": [],
   "source": [
    "fruitList = [aplee,banana]"
   ]
  },
  {
   "cell_type": "code",
   "execution_count": 32,
   "id": "4ff0bf94",
   "metadata": {},
   "outputs": [
    {
     "name": "stdout",
     "output_type": "stream",
     "text": [
      "100 caloriesapple\n",
      "200 caloriesbanana\n"
     ]
    }
   ],
   "source": [
    "for fruit in fruitList:# polymorphism\n",
    "    print(fruit.info())"
   ]
  },
  {
   "cell_type": "code",
   "execution_count": 33,
   "id": "f7c60861",
   "metadata": {},
   "outputs": [],
   "source": [
    "# encapsulation self.__"
   ]
  },
  {
   "cell_type": "code",
   "execution_count": 34,
   "id": "4b673888",
   "metadata": {},
   "outputs": [],
   "source": [
    "# haps etmek"
   ]
  },
  {
   "cell_type": "code",
   "execution_count": 35,
   "id": "b923a05c",
   "metadata": {},
   "outputs": [],
   "source": [
    "class Animals():\n",
    "    def __init__(self,price,name):\n",
    "        self.__price = price\n",
    "        self.name = name                \n",
    "    def info():\n",
    "        print(f\"{self.name} this price is {self.__name}\")"
   ]
  },
  {
   "cell_type": "code",
   "execution_count": 37,
   "id": "fdc9d14a",
   "metadata": {},
   "outputs": [],
   "source": [
    "cow = Animals(22,\"sell\")"
   ]
  },
  {
   "cell_type": "code",
   "execution_count": 2,
   "id": "f8b1f3a1",
   "metadata": {},
   "outputs": [],
   "source": [
    "# abstraction souyt snıf oluşturur temel sınıf \n"
   ]
  },
  {
   "cell_type": "code",
   "execution_count": 3,
   "id": "6afb3085",
   "metadata": {},
   "outputs": [],
   "source": [
    "from abc import ABC, abstractmethod"
   ]
  },
  {
   "cell_type": "code",
   "execution_count": 8,
   "id": "eb3a770c",
   "metadata": {},
   "outputs": [],
   "source": [
    "class Computer(ABC):\n",
    "    @abstractmethod\n",
    "    def processor(self):\n",
    "        print(\"i3\")\n",
    "        print(\"i5\")\n",
    "        print(\"i7\")"
   ]
  },
  {
   "cell_type": "code",
   "execution_count": 11,
   "id": "995543a1",
   "metadata": {},
   "outputs": [],
   "source": [
    "class Msı(Computer):\n",
    "    def processor(self):\n",
    "        print(\"i9\")"
   ]
  },
  {
   "cell_type": "code",
   "execution_count": 12,
   "id": "208eec22",
   "metadata": {},
   "outputs": [],
   "source": [
    "new_device = Msı()"
   ]
  },
  {
   "cell_type": "code",
   "execution_count": 14,
   "id": "bf570c42",
   "metadata": {},
   "outputs": [
    {
     "name": "stdout",
     "output_type": "stream",
     "text": [
      "i9\n"
     ]
    }
   ],
   "source": [
    "new_device.processor()"
   ]
  },
  {
   "cell_type": "code",
   "execution_count": 15,
   "id": "99630c7f",
   "metadata": {},
   "outputs": [],
   "source": [
    "class Hp(Computer):\n",
    "    def processor(self):\n",
    "        print(\"i3\")"
   ]
  },
  {
   "cell_type": "code",
   "execution_count": 16,
   "id": "ccbba6ee",
   "metadata": {},
   "outputs": [],
   "source": [
    "computer = Hp()"
   ]
  },
  {
   "cell_type": "code",
   "execution_count": 17,
   "id": "d1585ade",
   "metadata": {},
   "outputs": [
    {
     "name": "stdout",
     "output_type": "stream",
     "text": [
      "i3\n"
     ]
    }
   ],
   "source": [
    "computer.processor()"
   ]
  },
  {
   "cell_type": "code",
   "execution_count": 23,
   "id": "f67006fd",
   "metadata": {},
   "outputs": [],
   "source": [
    "class Mause():\n",
    "    def __init__(self,name):\n",
    "        self.name = name\n",
    "        print(f\"mause name is {name}\")\n",
    "        "
   ]
  },
  {
   "cell_type": "code",
   "execution_count": 25,
   "id": "0d069395",
   "metadata": {},
   "outputs": [
    {
     "name": "stdout",
     "output_type": "stream",
     "text": [
      "mause name is everst\n"
     ]
    }
   ],
   "source": [
    "Everest = Mause(\"everst\")"
   ]
  },
  {
   "cell_type": "code",
   "execution_count": 30,
   "id": "d2e71bb5",
   "metadata": {},
   "outputs": [],
   "source": [
    "class Bt_mause(Mause):\n",
    "    def __init__(self,name):\n",
    "        print(\"inheritence\")\n",
    "        "
   ]
  },
  {
   "cell_type": "code",
   "execution_count": 31,
   "id": "e4ef9d3f",
   "metadata": {},
   "outputs": [
    {
     "name": "stdout",
     "output_type": "stream",
     "text": [
      "inheritence\n"
     ]
    }
   ],
   "source": [
    "btmause = Bt_mause(\"rampage\")"
   ]
  },
  {
   "cell_type": "code",
   "execution_count": 40,
   "id": "f6e42d79",
   "metadata": {},
   "outputs": [],
   "source": [
    "class Tractors():\n",
    "    def __init__(self,brand):\n",
    "        self.__brand = brand\n",
    "         \n",
    "    def info(self,brand):\n",
    "        print(f\"your name {brand} \")\n",
    "        "
   ]
  },
  {
   "cell_type": "code",
   "execution_count": 41,
   "id": "620bded1",
   "metadata": {},
   "outputs": [],
   "source": [
    "new_hplland = Tractors(\"new holland\")"
   ]
  },
  {
   "cell_type": "code",
   "execution_count": 42,
   "id": "7f34dcfb",
   "metadata": {},
   "outputs": [
    {
     "ename": "TypeError",
     "evalue": "Tractors.info() missing 1 required positional argument: 'brand'",
     "output_type": "error",
     "traceback": [
      "\u001b[1;31m---------------------------------------------------------------------------\u001b[0m",
      "\u001b[1;31mTypeError\u001b[0m                                 Traceback (most recent call last)",
      "Cell \u001b[1;32mIn[42], line 1\u001b[0m\n\u001b[1;32m----> 1\u001b[0m new_hplland\u001b[38;5;241m.\u001b[39minfo()\n",
      "\u001b[1;31mTypeError\u001b[0m: Tractors.info() missing 1 required positional argument: 'brand'"
     ]
    }
   ],
   "source": [
    "new_hplland.info()"
   ]
  },
  {
   "cell_type": "code",
   "execution_count": 43,
   "id": "bdd8842e",
   "metadata": {},
   "outputs": [],
   "source": [
    "# ekstra mmethudlar"
   ]
  },
  {
   "cell_type": "code",
   "execution_count": 52,
   "id": "d72eeb2c",
   "metadata": {},
   "outputs": [],
   "source": [
    "class Fruit():\n",
    "    def __init__(self,name,calories):\n",
    "        self.name = name\n",
    "        self.calories = calories\n",
    "    def __str__(self):\n",
    "        return f\"{self.name} : \" \n",
    "    def __len__(self):\n",
    "        return f\"{self.calories}\""
   ]
  },
  {
   "cell_type": "code",
   "execution_count": 53,
   "id": "4fc01635",
   "metadata": {},
   "outputs": [],
   "source": [
    "my_fruit  = Fruit(\"cherry\",45)"
   ]
  },
  {
   "cell_type": "code",
   "execution_count": 54,
   "id": "46208b3a",
   "metadata": {},
   "outputs": [
    {
     "data": {
      "text/plain": [
       "45"
      ]
     },
     "execution_count": 54,
     "metadata": {},
     "output_type": "execute_result"
    }
   ],
   "source": [
    "my_fruit.calories"
   ]
  },
  {
   "cell_type": "code",
   "execution_count": 55,
   "id": "56efa648",
   "metadata": {},
   "outputs": [
    {
     "name": "stdout",
     "output_type": "stream",
     "text": [
      "cherry : \n"
     ]
    }
   ],
   "source": [
    "print(my_fruit)"
   ]
  },
  {
   "cell_type": "code",
   "execution_count": 57,
   "id": "79eb4311",
   "metadata": {},
   "outputs": [
    {
     "ename": "TypeError",
     "evalue": "'str' object cannot be interpreted as an integer",
     "output_type": "error",
     "traceback": [
      "\u001b[1;31m---------------------------------------------------------------------------\u001b[0m",
      "\u001b[1;31mTypeError\u001b[0m                                 Traceback (most recent call last)",
      "Cell \u001b[1;32mIn[57], line 1\u001b[0m\n\u001b[1;32m----> 1\u001b[0m \u001b[38;5;28mprint\u001b[39m(\u001b[38;5;28mlen\u001b[39m(my_fruit))\n",
      "\u001b[1;31mTypeError\u001b[0m: 'str' object cannot be interpreted as an integer"
     ]
    }
   ],
   "source": [
    "print(len(my_fruit))"
   ]
  },
  {
   "cell_type": "code",
   "execution_count": 59,
   "id": "85ab2e60",
   "metadata": {},
   "outputs": [],
   "source": [
    "class Lastclass():\n",
    "    def __init__(self,name):\n",
    "        self.name = name\n",
    "    def __getitem__(self,key):\n",
    "        if key == \"a\":\n",
    "            \n",
    "            return \"'a' bulundu\"\n",
    "        else :\n",
    "            return self.name\n",
    "            "
   ]
  },
  {
   "cell_type": "code",
   "execution_count": 60,
   "id": "07e1c6cc",
   "metadata": {},
   "outputs": [],
   "source": [
    "lastclasss = Lastclass(\"last_clas\")\n",
    "    "
   ]
  },
  {
   "cell_type": "code",
   "execution_count": 61,
   "id": "9698aa26",
   "metadata": {},
   "outputs": [
    {
     "data": {
      "text/plain": [
       "\"'a' bulundu\""
      ]
     },
     "execution_count": 61,
     "metadata": {},
     "output_type": "execute_result"
    }
   ],
   "source": [
    "lastclasss[\"a\"]"
   ]
  },
  {
   "cell_type": "code",
   "execution_count": 62,
   "id": "bb14330b",
   "metadata": {},
   "outputs": [
    {
     "data": {
      "text/plain": [
       "'last_clas'"
      ]
     },
     "execution_count": 62,
     "metadata": {},
     "output_type": "execute_result"
    }
   ],
   "source": [
    "lastclasss[3]"
   ]
  },
  {
   "cell_type": "code",
   "execution_count": null,
   "id": "1a36291f",
   "metadata": {},
   "outputs": [],
   "source": []
  }
 ],
 "metadata": {
  "kernelspec": {
   "display_name": "Python 3 (ipykernel)",
   "language": "python",
   "name": "python3"
  },
  "language_info": {
   "codemirror_mode": {
    "name": "ipython",
    "version": 3
   },
   "file_extension": ".py",
   "mimetype": "text/x-python",
   "name": "python",
   "nbconvert_exporter": "python",
   "pygments_lexer": "ipython3",
   "version": "3.11.5"
  }
 },
 "nbformat": 4,
 "nbformat_minor": 5
}
