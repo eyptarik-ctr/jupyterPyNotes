{
 "cells": [
  {
   "cell_type": "markdown",
   "id": "4900a18f",
   "metadata": {},
   "source": [
    "# Dictonary"
   ]
  },
  {
   "cell_type": "code",
   "execution_count": 9,
   "id": "3986fdc7",
   "metadata": {},
   "outputs": [],
   "source": [
    "#d ictonary = {\"key\":values}"
   ]
  },
  {
   "cell_type": "code",
   "execution_count": 10,
   "id": "9e703e60",
   "metadata": {},
   "outputs": [],
   "source": [
    "user_sdict = {\"ahmet\":100,\"mahmet\":200}"
   ]
  },
  {
   "cell_type": "code",
   "execution_count": 11,
   "id": "13e85b91",
   "metadata": {},
   "outputs": [
    {
     "data": {
      "text/plain": [
       "[100, 200]"
      ]
     },
     "execution_count": 11,
     "metadata": {},
     "output_type": "execute_result"
    }
   ],
   "source": [
    "list(user_sdict.values())"
   ]
  },
  {
   "cell_type": "code",
   "execution_count": 12,
   "id": "f1ba9d5d",
   "metadata": {},
   "outputs": [],
   "source": [
    "user_sdict[\"ali\"] = 300"
   ]
  },
  {
   "cell_type": "code",
   "execution_count": 13,
   "id": "38a7fecf",
   "metadata": {},
   "outputs": [
    {
     "data": {
      "text/plain": [
       "{'ahmet': 100, 'mahmet': 200, 'ali': 300}"
      ]
     },
     "execution_count": 13,
     "metadata": {},
     "output_type": "execute_result"
    }
   ],
   "source": [
    "user_sdict"
   ]
  },
  {
   "cell_type": "code",
   "execution_count": 14,
   "id": "9e13f0d1",
   "metadata": {},
   "outputs": [],
   "source": [
    "myDict = {100:\"a\",200:30}"
   ]
  },
  {
   "cell_type": "code",
   "execution_count": 15,
   "id": "b9deb960",
   "metadata": {},
   "outputs": [
    {
     "data": {
      "text/plain": [
       "{100: 'a', 200: 30}"
      ]
     },
     "execution_count": 15,
     "metadata": {},
     "output_type": "execute_result"
    }
   ],
   "source": [
    "myDict"
   ]
  },
  {
   "cell_type": "code",
   "execution_count": 16,
   "id": "4d1859b3",
   "metadata": {},
   "outputs": [
    {
     "data": {
      "text/plain": [
       "30"
      ]
     },
     "execution_count": 16,
     "metadata": {},
     "output_type": "execute_result"
    }
   ],
   "source": [
    "myDict[200]"
   ]
  },
  {
   "cell_type": "code",
   "execution_count": 17,
   "id": "b11691ba",
   "metadata": {},
   "outputs": [],
   "source": [
    "my_mixed_dic = {\"key1\":100,\"key2\":200,200:[40,50,60]}"
   ]
  },
  {
   "cell_type": "code",
   "execution_count": 19,
   "id": "65c7b524",
   "metadata": {},
   "outputs": [
    {
     "data": {
      "text/plain": [
       "50"
      ]
     },
     "execution_count": 19,
     "metadata": {},
     "output_type": "execute_result"
    }
   ],
   "source": [
    "my_mixed_dic[200][1] "
   ]
  },
  {
   "cell_type": "code",
   "execution_count": 20,
   "id": "ddbbdf17",
   "metadata": {},
   "outputs": [],
   "source": [
    "last_dictonary = {\"k1\":10,\"k2\":20,\"k3\":{\"d1\":20,10:20}}"
   ]
  },
  {
   "cell_type": "code",
   "execution_count": 21,
   "id": "6247fa56",
   "metadata": {},
   "outputs": [
    {
     "data": {
      "text/plain": [
       "20"
      ]
     },
     "execution_count": 21,
     "metadata": {},
     "output_type": "execute_result"
    }
   ],
   "source": [
    "last_dictonary[\"k3\"][10]"
   ]
  },
  {
   "cell_type": "markdown",
   "id": "d0a46c55",
   "metadata": {},
   "source": [
    "# SETS"
   ]
  },
  {
   "cell_type": "code",
   "execution_count": 27,
   "id": "52d66a80",
   "metadata": {},
   "outputs": [],
   "source": [
    "# set = {10,20,30}"
   ]
  },
  {
   "cell_type": "code",
   "execution_count": 28,
   "id": "74fe78aa",
   "metadata": {},
   "outputs": [],
   "source": [
    "my_list = [10,20,30,40,50,60,70,10,20,30,40]"
   ]
  },
  {
   "cell_type": "code",
   "execution_count": 29,
   "id": "08f23f40",
   "metadata": {},
   "outputs": [
    {
     "data": {
      "text/plain": [
       "11"
      ]
     },
     "execution_count": 29,
     "metadata": {},
     "output_type": "execute_result"
    }
   ],
   "source": [
    "len(my_list)"
   ]
  },
  {
   "cell_type": "code",
   "execution_count": 24,
   "id": "a741182e",
   "metadata": {},
   "outputs": [],
   "source": [
    "my_set = set(my_list)"
   ]
  },
  {
   "cell_type": "code",
   "execution_count": 25,
   "id": "cf449710",
   "metadata": {},
   "outputs": [
    {
     "data": {
      "text/plain": [
       "[10, 20, 30, 40, 50, 60, 70, 10, 20, 30, 40]"
      ]
     },
     "execution_count": 25,
     "metadata": {},
     "output_type": "execute_result"
    }
   ],
   "source": [
    "my_list"
   ]
  },
  {
   "cell_type": "code",
   "execution_count": 26,
   "id": "c11071c9",
   "metadata": {},
   "outputs": [
    {
     "data": {
      "text/plain": [
       "{10, 20, 30, 40, 50, 60, 70}"
      ]
     },
     "execution_count": 26,
     "metadata": {},
     "output_type": "execute_result"
    }
   ],
   "source": [
    "my_set"
   ]
  },
  {
   "cell_type": "code",
   "execution_count": 30,
   "id": "6e9c4d7f",
   "metadata": {},
   "outputs": [],
   "source": [
    "mySet = {10,20,20}"
   ]
  },
  {
   "cell_type": "code",
   "execution_count": 31,
   "id": "84a12bb9",
   "metadata": {},
   "outputs": [
    {
     "data": {
      "text/plain": [
       "{10, 20}"
      ]
     },
     "execution_count": 31,
     "metadata": {},
     "output_type": "execute_result"
    }
   ],
   "source": [
    "mySet"
   ]
  },
  {
   "cell_type": "code",
   "execution_count": 32,
   "id": "c606bb99",
   "metadata": {},
   "outputs": [],
   "source": [
    "empty_list = []"
   ]
  },
  {
   "cell_type": "code",
   "execution_count": 33,
   "id": "61aedcae",
   "metadata": {},
   "outputs": [],
   "source": [
    "empty_list.append(1)\n",
    "empty_list.append(2)\n",
    "empty_list.append(20)"
   ]
  },
  {
   "cell_type": "code",
   "execution_count": 34,
   "id": "ab8bd4e3",
   "metadata": {},
   "outputs": [],
   "source": [
    "my_emptydict = {}"
   ]
  },
  {
   "cell_type": "code",
   "execution_count": 35,
   "id": "62d1930b",
   "metadata": {},
   "outputs": [
    {
     "data": {
      "text/plain": [
       "dict"
      ]
     },
     "execution_count": 35,
     "metadata": {},
     "output_type": "execute_result"
    }
   ],
   "source": [
    "type(my_emptydict)"
   ]
  },
  {
   "cell_type": "code",
   "execution_count": 36,
   "id": "f54a2beb",
   "metadata": {},
   "outputs": [],
   "source": [
    "emptyset = set()"
   ]
  },
  {
   "cell_type": "code",
   "execution_count": 37,
   "id": "fafff631",
   "metadata": {},
   "outputs": [
    {
     "data": {
      "text/plain": [
       "set"
      ]
     },
     "execution_count": 37,
     "metadata": {},
     "output_type": "execute_result"
    }
   ],
   "source": [
    "type(emptyset)"
   ]
  },
  {
   "cell_type": "code",
   "execution_count": 38,
   "id": "3c3b0c8f",
   "metadata": {},
   "outputs": [],
   "source": [
    "emptyset.add(10)\n",
    "emptyset.add(1)\n",
    "emptyset.add(50)\n",
    "emptyset.add(40)\n",
    "emptyset.add(20)\n"
   ]
  },
  {
   "cell_type": "code",
   "execution_count": 39,
   "id": "69072c56",
   "metadata": {},
   "outputs": [
    {
     "data": {
      "text/plain": [
       "{1, 10, 20, 40, 50}"
      ]
     },
     "execution_count": 39,
     "metadata": {},
     "output_type": "execute_result"
    }
   ],
   "source": [
    "emptyset"
   ]
  },
  {
   "cell_type": "code",
   "execution_count": 40,
   "id": "c94bcd59",
   "metadata": {},
   "outputs": [],
   "source": [
    "boşListe = list()"
   ]
  },
  {
   "cell_type": "markdown",
   "id": "005c2298",
   "metadata": {},
   "source": [
    "# TUPLES"
   ]
  },
  {
   "cell_type": "code",
   "execution_count": 41,
   "id": "c79f1d5e",
   "metadata": {},
   "outputs": [],
   "source": [
    "myList = list()"
   ]
  },
  {
   "cell_type": "code",
   "execution_count": 42,
   "id": "dddb0ced",
   "metadata": {},
   "outputs": [],
   "source": [
    "myList.append(10)\n",
    "myList.append(10)\n",
    "myList.append(10)\n",
    "myList.append(10)\n",
    "myList.append(10)"
   ]
  },
  {
   "cell_type": "code",
   "execution_count": 44,
   "id": "6bc7388b",
   "metadata": {},
   "outputs": [],
   "source": [
    "# tuple tuple()"
   ]
  },
  {
   "cell_type": "code",
   "execution_count": 46,
   "id": "031ff1a6",
   "metadata": {},
   "outputs": [],
   "source": [
    "my_tuple =  (10,20,\"aa\")"
   ]
  },
  {
   "cell_type": "code",
   "execution_count": 47,
   "id": "b5c70f9c",
   "metadata": {},
   "outputs": [
    {
     "name": "stdout",
     "output_type": "stream",
     "text": [
      "Help on built-in function index:\n",
      "\n",
      "index(value, start=0, stop=9223372036854775807, /) method of builtins.tuple instance\n",
      "    Return first index of value.\n",
      "    \n",
      "    Raises ValueError if the value is not present.\n",
      "\n"
     ]
    }
   ],
   "source": [
    "help(my_tuple.index)"
   ]
  },
  {
   "cell_type": "code",
   "execution_count": 48,
   "id": "8ca78c2c",
   "metadata": {},
   "outputs": [
    {
     "name": "stdout",
     "output_type": "stream",
     "text": [
      "how are you22\n"
     ]
    }
   ],
   "source": [
    "user_age = input(\"how are you\")"
   ]
  },
  {
   "cell_type": "code",
   "execution_count": 50,
   "id": "f03b8722",
   "metadata": {},
   "outputs": [
    {
     "data": {
      "text/plain": [
       "False"
      ]
     },
     "execution_count": 50,
     "metadata": {},
     "output_type": "execute_result"
    }
   ],
   "source": [
    "int(user_age )< 18 "
   ]
  },
  {
   "cell_type": "code",
   "execution_count": 51,
   "id": "14882059",
   "metadata": {},
   "outputs": [
    {
     "name": "stdout",
     "output_type": "stream",
     "text": [
      "True\n"
     ]
    }
   ],
   "source": [
    "if int(user_age) > 18:\n",
    "    print(True)"
   ]
  },
  {
   "cell_type": "code",
   "execution_count": null,
   "id": "b02fa61d",
   "metadata": {},
   "outputs": [],
   "source": []
  }
 ],
 "metadata": {
  "kernelspec": {
   "display_name": "Python 3 (ipykernel)",
   "language": "python",
   "name": "python3"
  },
  "language_info": {
   "codemirror_mode": {
    "name": "ipython",
    "version": 3
   },
   "file_extension": ".py",
   "mimetype": "text/x-python",
   "name": "python",
   "nbconvert_exporter": "python",
   "pygments_lexer": "ipython3",
   "version": "3.11.5"
  }
 },
 "nbformat": 4,
 "nbformat_minor": 5
}
