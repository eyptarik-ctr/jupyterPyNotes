{
 "cells": [
  {
   "cell_type": "markdown",
   "id": "b5be578a",
   "metadata": {},
   "source": [
    "# List "
   ]
  },
  {
   "cell_type": "code",
   "execution_count": 1,
   "id": "d0f2df0b",
   "metadata": {},
   "outputs": [],
   "source": [
    "my_list = [\"hello\",3,3,34,5,]"
   ]
  },
  {
   "cell_type": "code",
   "execution_count": 2,
   "id": "adcfa97c",
   "metadata": {},
   "outputs": [
    {
     "data": {
      "text/plain": [
       "34"
      ]
     },
     "execution_count": 2,
     "metadata": {},
     "output_type": "execute_result"
    }
   ],
   "source": [
    "my_list[3]"
   ]
  },
  {
   "cell_type": "code",
   "execution_count": 3,
   "id": "d5bcb2bb",
   "metadata": {},
   "outputs": [
    {
     "data": {
      "text/plain": [
       "['hello', 3, 3, 34, 5]"
      ]
     },
     "execution_count": 3,
     "metadata": {},
     "output_type": "execute_result"
    }
   ],
   "source": [
    "my_list"
   ]
  },
  {
   "cell_type": "code",
   "execution_count": 4,
   "id": "c71c10cf",
   "metadata": {},
   "outputs": [],
   "source": [
    "my_list[2] = 12"
   ]
  },
  {
   "cell_type": "code",
   "execution_count": 5,
   "id": "59683f2f",
   "metadata": {},
   "outputs": [
    {
     "data": {
      "text/plain": [
       "['hello', 3, 12, 34, 5]"
      ]
     },
     "execution_count": 5,
     "metadata": {},
     "output_type": "execute_result"
    }
   ],
   "source": [
    "my_list"
   ]
  },
  {
   "cell_type": "code",
   "execution_count": 6,
   "id": "a937fba1",
   "metadata": {},
   "outputs": [
    {
     "data": {
      "text/plain": [
       "5"
      ]
     },
     "execution_count": 6,
     "metadata": {},
     "output_type": "execute_result"
    }
   ],
   "source": [
    "len(my_list)"
   ]
  },
  {
   "cell_type": "code",
   "execution_count": 7,
   "id": "b6e47f7b",
   "metadata": {},
   "outputs": [
    {
     "name": "stdout",
     "output_type": "stream",
     "text": [
      "Help on built-in function append:\n",
      "\n",
      "append(object, /) method of builtins.list instance\n",
      "    Append object to the end of the list.\n",
      "\n"
     ]
    }
   ],
   "source": [
    "help(my_list.append)"
   ]
  },
  {
   "cell_type": "code",
   "execution_count": 8,
   "id": "5a4adb85",
   "metadata": {},
   "outputs": [],
   "source": [
    "my_list.append(23)"
   ]
  },
  {
   "cell_type": "code",
   "execution_count": 9,
   "id": "c7247890",
   "metadata": {},
   "outputs": [
    {
     "data": {
      "text/plain": [
       "['hello', 3, 12, 34, 5, 23]"
      ]
     },
     "execution_count": 9,
     "metadata": {},
     "output_type": "execute_result"
    }
   ],
   "source": [
    "my_list"
   ]
  },
  {
   "cell_type": "code",
   "execution_count": 10,
   "id": "132ea9ab",
   "metadata": {},
   "outputs": [
    {
     "data": {
      "text/plain": [
       "0"
      ]
     },
     "execution_count": 10,
     "metadata": {},
     "output_type": "execute_result"
    }
   ],
   "source": [
    "my_list.count(20)"
   ]
  },
  {
   "cell_type": "code",
   "execution_count": 11,
   "id": "1601161e",
   "metadata": {},
   "outputs": [
    {
     "data": {
      "text/plain": [
       "5"
      ]
     },
     "execution_count": 11,
     "metadata": {},
     "output_type": "execute_result"
    }
   ],
   "source": [
    "my_list.index(23)"
   ]
  },
  {
   "cell_type": "code",
   "execution_count": 13,
   "id": "40a52e48",
   "metadata": {},
   "outputs": [],
   "source": [
    "my_list.insert( 2,35 )"
   ]
  },
  {
   "cell_type": "code",
   "execution_count": 14,
   "id": "85df9f20",
   "metadata": {},
   "outputs": [
    {
     "data": {
      "text/plain": [
       "['hello', 3, 35, 12, 34, 5, 23]"
      ]
     },
     "execution_count": 14,
     "metadata": {},
     "output_type": "execute_result"
    }
   ],
   "source": [
    "my_list"
   ]
  },
  {
   "cell_type": "code",
   "execution_count": 16,
   "id": "5ab2d652",
   "metadata": {},
   "outputs": [
    {
     "ename": "NameError",
     "evalue": "name 'hell0' is not defined",
     "output_type": "error",
     "traceback": [
      "\u001b[1;31m---------------------------------------------------------------------------\u001b[0m",
      "\u001b[1;31mNameError\u001b[0m                                 Traceback (most recent call last)",
      "Cell \u001b[1;32mIn[16], line 1\u001b[0m\n\u001b[1;32m----> 1\u001b[0m my_list\u001b[38;5;241m.\u001b[39mremove(hell0)\n",
      "\u001b[1;31mNameError\u001b[0m: name 'hell0' is not defined"
     ]
    }
   ],
   "source": [
    "my_list.append"
   ]
  },
  {
   "cell_type": "code",
   "execution_count": 17,
   "id": "c8485791",
   "metadata": {},
   "outputs": [
    {
     "name": "stdout",
     "output_type": "stream",
     "text": [
      "enter x34\n",
      "enter y66\n"
     ]
    }
   ],
   "source": [
    "x = input(\"enter x\")\n",
    "y = input(\"enter y\")"
   ]
  },
  {
   "cell_type": "code",
   "execution_count": 18,
   "id": "08001d6b",
   "metadata": {},
   "outputs": [
    {
     "data": {
      "text/plain": [
       "'34'"
      ]
     },
     "execution_count": 18,
     "metadata": {},
     "output_type": "execute_result"
    }
   ],
   "source": [
    "x"
   ]
  },
  {
   "cell_type": "code",
   "execution_count": 19,
   "id": "ccb5b992",
   "metadata": {},
   "outputs": [],
   "source": [
    "input_list = []"
   ]
  },
  {
   "cell_type": "code",
   "execution_count": 21,
   "id": "e586b049",
   "metadata": {},
   "outputs": [],
   "source": [
    "input_list.append(x)\n",
    "input_list.append(y)"
   ]
  },
  {
   "cell_type": "code",
   "execution_count": 22,
   "id": "b055b5a0",
   "metadata": {},
   "outputs": [
    {
     "data": {
      "text/plain": [
       "['34', '66']"
      ]
     },
     "execution_count": 22,
     "metadata": {},
     "output_type": "execute_result"
    }
   ],
   "source": [
    "input_list"
   ]
  },
  {
   "cell_type": "code",
   "execution_count": 23,
   "id": "2be28d79",
   "metadata": {},
   "outputs": [
    {
     "name": "stdout",
     "output_type": "stream",
     "text": [
      "enter556\n",
      "enter77\n"
     ]
    }
   ],
   "source": [
    "a = int(input(\"enter\"))\n",
    "b = int(input(\"enter\"))"
   ]
  },
  {
   "cell_type": "code",
   "execution_count": 24,
   "id": "e6af092d",
   "metadata": {},
   "outputs": [],
   "source": [
    "myİnputlist = []"
   ]
  },
  {
   "cell_type": "code",
   "execution_count": 27,
   "id": "1ba2da46",
   "metadata": {},
   "outputs": [],
   "source": [
    "myİnputlist.append(x)\n",
    "myİnputlist.append(a)"
   ]
  },
  {
   "cell_type": "code",
   "execution_count": 28,
   "id": "77a2279e",
   "metadata": {},
   "outputs": [
    {
     "data": {
      "text/plain": [
       "['34', '34', 556]"
      ]
     },
     "execution_count": 28,
     "metadata": {},
     "output_type": "execute_result"
    }
   ],
   "source": [
    "myİnputlist"
   ]
  },
  {
   "cell_type": "code",
   "execution_count": 34,
   "id": "c5339e78",
   "metadata": {},
   "outputs": [],
   "source": [
    "s = myİnputlist"
   ]
  },
  {
   "cell_type": "code",
   "execution_count": 35,
   "id": "c7b66aff",
   "metadata": {},
   "outputs": [
    {
     "data": {
      "text/plain": [
       "['34', '34', 556, '34', '34', 556]"
      ]
     },
     "execution_count": 35,
     "metadata": {},
     "output_type": "execute_result"
    }
   ],
   "source": [
    "s *2"
   ]
  },
  {
   "cell_type": "code",
   "execution_count": 36,
   "id": "20970edf",
   "metadata": {},
   "outputs": [
    {
     "data": {
      "text/plain": [
       "list"
      ]
     },
     "execution_count": 36,
     "metadata": {},
     "output_type": "execute_result"
    }
   ],
   "source": [
    "type(myİnputlist)"
   ]
  },
  {
   "cell_type": "code",
   "execution_count": 37,
   "id": "056b076c",
   "metadata": {},
   "outputs": [
    {
     "data": {
      "text/plain": [
       "\"['34', '34', 556]\""
      ]
     },
     "execution_count": 37,
     "metadata": {},
     "output_type": "execute_result"
    }
   ],
   "source": [
    "str(myİnputlist)"
   ]
  },
  {
   "cell_type": "code",
   "execution_count": 38,
   "id": "2711bc8d",
   "metadata": {},
   "outputs": [],
   "source": [
    "s = myİnputlist"
   ]
  },
  {
   "cell_type": "code",
   "execution_count": 40,
   "id": "1fc5db33",
   "metadata": {},
   "outputs": [
    {
     "data": {
      "text/plain": [
       "list"
      ]
     },
     "execution_count": 40,
     "metadata": {},
     "output_type": "execute_result"
    }
   ],
   "source": [
    "type(myİnputlist)"
   ]
  },
  {
   "cell_type": "code",
   "execution_count": 42,
   "id": "4763c8ea",
   "metadata": {},
   "outputs": [
    {
     "ename": "TypeError",
     "evalue": "int() argument must be a string, a bytes-like object or a real number, not 'list'",
     "output_type": "error",
     "traceback": [
      "\u001b[1;31m---------------------------------------------------------------------------\u001b[0m",
      "\u001b[1;31mTypeError\u001b[0m                                 Traceback (most recent call last)",
      "Cell \u001b[1;32mIn[42], line 1\u001b[0m\n\u001b[1;32m----> 1\u001b[0m \u001b[38;5;28mint\u001b[39m(myİnputlist)\n",
      "\u001b[1;31mTypeError\u001b[0m: int() argument must be a string, a bytes-like object or a real number, not 'list'"
     ]
    }
   ],
   "source": [
    "int(myİnputlist)"
   ]
  },
  {
   "cell_type": "code",
   "execution_count": 43,
   "id": "a1d8b107",
   "metadata": {},
   "outputs": [
    {
     "data": {
      "text/plain": [
       "['34', '34', 556]"
      ]
     },
     "execution_count": 43,
     "metadata": {},
     "output_type": "execute_result"
    }
   ],
   "source": [
    "myİnputlist"
   ]
  },
  {
   "cell_type": "code",
   "execution_count": 44,
   "id": "c17a98e8",
   "metadata": {},
   "outputs": [],
   "source": [
    "my_list = [1 , 2,3,3,4]"
   ]
  },
  {
   "cell_type": "code",
   "execution_count": 45,
   "id": "e4c864bd",
   "metadata": {},
   "outputs": [
    {
     "data": {
      "text/plain": [
       "list"
      ]
     },
     "execution_count": 45,
     "metadata": {},
     "output_type": "execute_result"
    }
   ],
   "source": [
    "type(my_list)"
   ]
  },
  {
   "cell_type": "code",
   "execution_count": 47,
   "id": "b0ba0d70",
   "metadata": {},
   "outputs": [
    {
     "ename": "TypeError",
     "evalue": "int() argument must be a string, a bytes-like object or a real number, not 'list'",
     "output_type": "error",
     "traceback": [
      "\u001b[1;31m---------------------------------------------------------------------------\u001b[0m",
      "\u001b[1;31mTypeError\u001b[0m                                 Traceback (most recent call last)",
      "Cell \u001b[1;32mIn[47], line 1\u001b[0m\n\u001b[1;32m----> 1\u001b[0m \u001b[38;5;28mint\u001b[39m(my_list)[\u001b[38;5;241m1\u001b[39m]\n",
      "\u001b[1;31mTypeError\u001b[0m: int() argument must be a string, a bytes-like object or a real number, not 'list'"
     ]
    }
   ],
   "source": [
    "int(my_list)[1]"
   ]
  },
  {
   "cell_type": "code",
   "execution_count": 53,
   "id": "a04a9f31",
   "metadata": {},
   "outputs": [],
   "source": [
    "list1 = []"
   ]
  },
  {
   "cell_type": "code",
   "execution_count": 48,
   "id": "5b0e588f",
   "metadata": {},
   "outputs": [],
   "source": [
    "mixed_list = [1,2,3,3,6,4,5]"
   ]
  },
  {
   "cell_type": "code",
   "execution_count": 57,
   "id": "3ae9784a",
   "metadata": {},
   "outputs": [
    {
     "data": {
      "text/plain": [
       "[1, 2, 3, 3, 6, 4, 5, 1, 2, 3, 3, 6, 4, 5]"
      ]
     },
     "execution_count": 57,
     "metadata": {},
     "output_type": "execute_result"
    }
   ],
   "source": [
    "list1"
   ]
  },
  {
   "cell_type": "code",
   "execution_count": 63,
   "id": "c315b2be",
   "metadata": {},
   "outputs": [],
   "source": [
    "list2 = [1,2,3,[24,34],33]"
   ]
  },
  {
   "cell_type": "code",
   "execution_count": 64,
   "id": "657bc264",
   "metadata": {},
   "outputs": [
    {
     "data": {
      "text/plain": [
       "34"
      ]
     },
     "execution_count": 64,
     "metadata": {},
     "output_type": "execute_result"
    }
   ],
   "source": [
    "list2[3][1]"
   ]
  },
  {
   "cell_type": "code",
   "execution_count": null,
   "id": "a15172f3",
   "metadata": {},
   "outputs": [],
   "source": []
  }
 ],
 "metadata": {
  "kernelspec": {
   "display_name": "Python 3 (ipykernel)",
   "language": "python",
   "name": "python3"
  },
  "language_info": {
   "codemirror_mode": {
    "name": "ipython",
    "version": 3
   },
   "file_extension": ".py",
   "mimetype": "text/x-python",
   "name": "python",
   "nbconvert_exporter": "python",
   "pygments_lexer": "ipython3",
   "version": "3.11.5"
  }
 },
 "nbformat": 4,
 "nbformat_minor": 5
}
