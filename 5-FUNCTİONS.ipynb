{
 "cells": [
  {
   "cell_type": "code",
   "execution_count": 1,
   "id": "a7faba1a",
   "metadata": {},
   "outputs": [],
   "source": [
    "# fonksiyonlar"
   ]
  },
  {
   "cell_type": "code",
   "execution_count": 2,
   "id": "d82f92b8",
   "metadata": {},
   "outputs": [],
   "source": [
    "def my_function():\n",
    "    print(\"hello\")\n",
    "    "
   ]
  },
  {
   "cell_type": "code",
   "execution_count": 3,
   "id": "5dfa34d4",
   "metadata": {},
   "outputs": [
    {
     "data": {
      "text/plain": [
       "<function __main__.my_function()>"
      ]
     },
     "execution_count": 3,
     "metadata": {},
     "output_type": "execute_result"
    }
   ],
   "source": [
    "my_function"
   ]
  },
  {
   "cell_type": "code",
   "execution_count": 4,
   "id": "cdecea72",
   "metadata": {},
   "outputs": [
    {
     "name": "stdout",
     "output_type": "stream",
     "text": [
      "hello\n"
     ]
    }
   ],
   "source": [
    "my_function()"
   ]
  },
  {
   "cell_type": "code",
   "execution_count": 5,
   "id": "7fb3b342",
   "metadata": {},
   "outputs": [],
   "source": [
    "# input"
   ]
  },
  {
   "cell_type": "code",
   "execution_count": 7,
   "id": "574d1982",
   "metadata": {},
   "outputs": [],
   "source": [
    "def name_fonk(name):\n",
    "    print(\"hello\")\n",
    "    print(name)"
   ]
  },
  {
   "cell_type": "code",
   "execution_count": 9,
   "id": "56d92026",
   "metadata": {},
   "outputs": [
    {
     "name": "stdout",
     "output_type": "stream",
     "text": [
      "hello\n",
      "aybey\n"
     ]
    }
   ],
   "source": [
    "name_fonk(\"aybey\")"
   ]
  },
  {
   "cell_type": "code",
   "execution_count": 10,
   "id": "bf2a9d76",
   "metadata": {},
   "outputs": [
    {
     "ename": "TypeError",
     "evalue": "name_fonk() missing 1 required positional argument: 'name'",
     "output_type": "error",
     "traceback": [
      "\u001b[1;31m---------------------------------------------------------------------------\u001b[0m",
      "\u001b[1;31mTypeError\u001b[0m                                 Traceback (most recent call last)",
      "Cell \u001b[1;32mIn[10], line 1\u001b[0m\n\u001b[1;32m----> 1\u001b[0m name_fonk()\n",
      "\u001b[1;31mTypeError\u001b[0m: name_fonk() missing 1 required positional argument: 'name'"
     ]
    }
   ],
   "source": [
    "name_fonk() # değişkeni vermessek çalışmaz"
   ]
  },
  {
   "cell_type": "code",
   "execution_count": 11,
   "id": "56bb5a1a",
   "metadata": {},
   "outputs": [],
   "source": [
    "def ages(age=\"15\"): # default deyer atama\n",
    "    print(age)"
   ]
  },
  {
   "cell_type": "code",
   "execution_count": 12,
   "id": "219d6e86",
   "metadata": {},
   "outputs": [
    {
     "name": "stdout",
     "output_type": "stream",
     "text": [
      "15\n"
     ]
    }
   ],
   "source": [
    "ages()"
   ]
  },
  {
   "cell_type": "code",
   "execution_count": 13,
   "id": "78dffda5",
   "metadata": {},
   "outputs": [],
   "source": [
    "def toplam(num1,num2,num3):\n",
    "    print(num1+num2+num3)"
   ]
  },
  {
   "cell_type": "code",
   "execution_count": 14,
   "id": "92144f41",
   "metadata": {},
   "outputs": [
    {
     "name": "stdout",
     "output_type": "stream",
     "text": [
      "60\n"
     ]
    }
   ],
   "source": [
    "toplam(10,20,30)"
   ]
  },
  {
   "cell_type": "code",
   "execution_count": 15,
   "id": "8d4d9cf9",
   "metadata": {},
   "outputs": [],
   "source": [
    "def toplam(num1=\"14\",num2=\"14\",num3=\"17\"):\n",
    "    print(num1+num2+num3)"
   ]
  },
  {
   "cell_type": "code",
   "execution_count": 18,
   "id": "b19024f2",
   "metadata": {},
   "outputs": [
    {
     "name": "stdout",
     "output_type": "stream",
     "text": [
      "47\n"
     ]
    }
   ],
   "source": [
    "toplam(15,25,7)"
   ]
  },
  {
   "cell_type": "code",
   "execution_count": 19,
   "id": "b431ece9",
   "metadata": {},
   "outputs": [],
   "source": [
    "# return"
   ]
  },
  {
   "cell_type": "code",
   "execution_count": 20,
   "id": "324e543b",
   "metadata": {},
   "outputs": [],
   "source": [
    "def sumation(n1,n2,n3):\n",
    "    print(n1*n2*n3)"
   ]
  },
  {
   "cell_type": "code",
   "execution_count": 21,
   "id": "2d64826a",
   "metadata": {},
   "outputs": [
    {
     "name": "stdout",
     "output_type": "stream",
     "text": [
      "72\n"
     ]
    }
   ],
   "source": [
    "x = sumation(12,2,3)"
   ]
  },
  {
   "cell_type": "code",
   "execution_count": 22,
   "id": "8939aa4c",
   "metadata": {},
   "outputs": [],
   "source": [
    "x"
   ]
  },
  {
   "cell_type": "code",
   "execution_count": 23,
   "id": "c22f7fda",
   "metadata": {},
   "outputs": [
    {
     "data": {
      "text/plain": [
       "NoneType"
      ]
     },
     "execution_count": 23,
     "metadata": {},
     "output_type": "execute_result"
    }
   ],
   "source": [
    "type(x)"
   ]
  },
  {
   "cell_type": "code",
   "execution_count": 27,
   "id": "58d6b5fb",
   "metadata": {},
   "outputs": [],
   "source": [
    "def return_toplam(n1,n2,n3): #return sonucu bir değişkene atamak için kulanılabilir\n",
    "    resault = n1*n2*n3\n",
    "    print(resault)\n",
    "    return resault # fonksiyon için yapacağimiz seyleri return dan önce yazmalıyız"
   ]
  },
  {
   "cell_type": "code",
   "execution_count": 28,
   "id": "555b6f98",
   "metadata": {},
   "outputs": [
    {
     "name": "stdout",
     "output_type": "stream",
     "text": [
      "6\n"
     ]
    },
    {
     "data": {
      "text/plain": [
       "6"
      ]
     },
     "execution_count": 28,
     "metadata": {},
     "output_type": "execute_result"
    }
   ],
   "source": [
    "return_toplam(1,2,3)"
   ]
  },
  {
   "cell_type": "code",
   "execution_count": 29,
   "id": "9d30c579",
   "metadata": {},
   "outputs": [
    {
     "name": "stdout",
     "output_type": "stream",
     "text": [
      "1872\n"
     ]
    }
   ],
   "source": [
    "x = return_toplam(13,24,6)"
   ]
  },
  {
   "cell_type": "code",
   "execution_count": 30,
   "id": "885266e7",
   "metadata": {},
   "outputs": [
    {
     "data": {
      "text/plain": [
       "1872"
      ]
     },
     "execution_count": 30,
     "metadata": {},
     "output_type": "execute_result"
    }
   ],
   "source": [
    "x"
   ]
  },
  {
   "cell_type": "code",
   "execution_count": 31,
   "id": "b3684809",
   "metadata": {},
   "outputs": [],
   "source": [
    "def if_control(s):\n",
    "    if s[0] == \"a\":\n",
    "        print(\"a\")"
   ]
  },
  {
   "cell_type": "code",
   "execution_count": 32,
   "id": "d811a525",
   "metadata": {},
   "outputs": [],
   "source": [
    "if_control(\"hello\")"
   ]
  },
  {
   "cell_type": "code",
   "execution_count": 33,
   "id": "14c24c95",
   "metadata": {},
   "outputs": [
    {
     "name": "stdout",
     "output_type": "stream",
     "text": [
      "a\n"
     ]
    }
   ],
   "source": [
    "if_control(\"abi\")"
   ]
  },
  {
   "cell_type": "code",
   "execution_count": 34,
   "id": "b3b95590",
   "metadata": {},
   "outputs": [],
   "source": [
    "# args , kwargs"
   ]
  },
  {
   "cell_type": "code",
   "execution_count": 35,
   "id": "27ba7268",
   "metadata": {},
   "outputs": [],
   "source": [
    "def toplayıcı(*args):\n",
    "    return sum(args)"
   ]
  },
  {
   "cell_type": "code",
   "execution_count": 36,
   "id": "85894b20",
   "metadata": {},
   "outputs": [
    {
     "data": {
      "text/plain": [
       "169"
      ]
     },
     "execution_count": 36,
     "metadata": {},
     "output_type": "execute_result"
    }
   ],
   "source": [
    "toplayıcı(17,27,37,88)"
   ]
  },
  {
   "cell_type": "code",
   "execution_count": 37,
   "id": "991f4b92",
   "metadata": {},
   "outputs": [],
   "source": [
    "def args_fonksiyon(*args):\n",
    "    print(args)"
   ]
  },
  {
   "cell_type": "code",
   "execution_count": 38,
   "id": "710b85db",
   "metadata": {},
   "outputs": [
    {
     "name": "stdout",
     "output_type": "stream",
     "text": [
      "(1, 2, 3, 4, 5)\n"
     ]
    }
   ],
   "source": [
    "args_fonksiyon(1,2,3,4,5)"
   ]
  },
  {
   "cell_type": "code",
   "execution_count": 39,
   "id": "936c6be9",
   "metadata": {},
   "outputs": [],
   "source": [
    "# kwargs"
   ]
  },
  {
   "cell_type": "code",
   "execution_count": 40,
   "id": "c969f46a",
   "metadata": {},
   "outputs": [],
   "source": [
    "def kwargs_ex(**kwargs):\n",
    "    print(kwargs)"
   ]
  },
  {
   "cell_type": "code",
   "execution_count": 42,
   "id": "98dc8120",
   "metadata": {},
   "outputs": [
    {
     "name": "stdout",
     "output_type": "stream",
     "text": [
      "{'hello': 1, 'merhaba': 2, 'naber': 3}\n"
     ]
    }
   ],
   "source": [
    "kwargs_ex(hello=1,merhaba=2,naber=3)"
   ]
  },
  {
   "cell_type": "code",
   "execution_count": 43,
   "id": "2ae27581",
   "metadata": {},
   "outputs": [],
   "source": [
    "def divideNumber(number):\n",
    "    return number / 2 "
   ]
  },
  {
   "cell_type": "code",
   "execution_count": 44,
   "id": "d76c2b45",
   "metadata": {},
   "outputs": [
    {
     "data": {
      "text/plain": [
       "6.0"
      ]
     },
     "execution_count": 44,
     "metadata": {},
     "output_type": "execute_result"
    }
   ],
   "source": [
    "divideNumber(12)"
   ]
  },
  {
   "cell_type": "code",
   "execution_count": 45,
   "id": "e6b6c0e8",
   "metadata": {},
   "outputs": [],
   "source": [
    "my_list1 = [10,20,30,36,88,48]"
   ]
  },
  {
   "cell_type": "code",
   "execution_count": 46,
   "id": "73b81b11",
   "metadata": {},
   "outputs": [],
   "source": [
    "myResaultlist = []"
   ]
  },
  {
   "cell_type": "code",
   "execution_count": 50,
   "id": "6b62e218",
   "metadata": {},
   "outputs": [],
   "source": [
    "for i in my_list1:\n",
    "    myResaultlist.append(divideNumber(i))\n",
    "    \n",
    "    \n",
    "    \n",
    "   \n",
    "    \n",
    "    \n",
    "    \n",
    "    "
   ]
  },
  {
   "cell_type": "code",
   "execution_count": 51,
   "id": "4a480559",
   "metadata": {},
   "outputs": [
    {
     "data": {
      "text/plain": [
       "[5.0, 10.0, 15.0, 18.0, 44.0, 24.0]"
      ]
     },
     "execution_count": 51,
     "metadata": {},
     "output_type": "execute_result"
    }
   ],
   "source": [
    "myResaultlist\n"
   ]
  },
  {
   "cell_type": "code",
   "execution_count": 52,
   "id": "a8e6ddf9",
   "metadata": {},
   "outputs": [],
   "source": [
    "# map "
   ]
  },
  {
   "cell_type": "code",
   "execution_count": 53,
   "id": "823d8e2b",
   "metadata": {},
   "outputs": [
    {
     "data": {
      "text/plain": [
       "[5.0, 10.0, 15.0, 18.0, 44.0, 24.0]"
      ]
     },
     "execution_count": 53,
     "metadata": {},
     "output_type": "execute_result"
    }
   ],
   "source": [
    "list(map(divideNumber,my_list1))"
   ]
  },
  {
   "cell_type": "code",
   "execution_count": 54,
   "id": "de73db36",
   "metadata": {},
   "outputs": [],
   "source": [
    "# filter\n"
   ]
  },
  {
   "cell_type": "code",
   "execution_count": 55,
   "id": "76adc343",
   "metadata": {},
   "outputs": [
    {
     "data": {
      "text/plain": [
       "[10, 20, 30, 36, 88, 48]"
      ]
     },
     "execution_count": 55,
     "metadata": {},
     "output_type": "execute_result"
    }
   ],
   "source": [
    "list(filter(divideNumber,my_list1))"
   ]
  },
  {
   "cell_type": "code",
   "execution_count": 56,
   "id": "cdb5cd50",
   "metadata": {},
   "outputs": [],
   "source": [
    "# lambda"
   ]
  },
  {
   "cell_type": "code",
   "execution_count": 57,
   "id": "cd7b772d",
   "metadata": {},
   "outputs": [],
   "source": [
    "my_list2 = [10,23,4,44,5,55]"
   ]
  },
  {
   "cell_type": "code",
   "execution_count": 58,
   "id": "407b5e2e",
   "metadata": {},
   "outputs": [
    {
     "data": {
      "text/plain": [
       "[20, 46, 8, 88, 10, 110]"
      ]
     },
     "execution_count": 58,
     "metadata": {},
     "output_type": "execute_result"
    }
   ],
   "source": [
    "list(map(lambda num :num*2,my_list2)) # tek satırda lamda fonksiyonu ile fonksiyon tanımlama"
   ]
  },
  {
   "cell_type": "code",
   "execution_count": 65,
   "id": "ea150bea",
   "metadata": {},
   "outputs": [
    {
     "ename": "NameError",
     "evalue": "name 'num' is not defined",
     "output_type": "error",
     "traceback": [
      "\u001b[1;31m---------------------------------------------------------------------------\u001b[0m",
      "\u001b[1;31mNameError\u001b[0m                                 Traceback (most recent call last)",
      "Cell \u001b[1;32mIn[65], line 4\u001b[0m\n\u001b[0;32m      2\u001b[0m \u001b[38;5;28;01mfor\u001b[39;00m i \u001b[38;5;129;01min\u001b[39;00m a_list:\n\u001b[0;32m      3\u001b[0m     \u001b[38;5;28;01mlambda\u001b[39;00m num : num \u001b[38;5;241m*\u001b[39m\u001b[38;5;241m2\u001b[39m\n\u001b[1;32m----> 4\u001b[0m     \u001b[38;5;28mprint\u001b[39m(num)\n",
      "\u001b[1;31mNameError\u001b[0m: name 'num' is not defined"
     ]
    }
   ],
   "source": [
    "a_list = [10,23,4,5] \n",
    "for i in a_list:\n",
    "    lambda num : num *2\n",
    "    print(num)\n"
   ]
  },
  {
   "cell_type": "code",
   "execution_count": 66,
   "id": "d68a4186",
   "metadata": {},
   "outputs": [],
   "source": [
    "# scope local --> enclosing--> global --> build in"
   ]
  },
  {
   "cell_type": "code",
   "execution_count": 67,
   "id": "615a7340",
   "metadata": {},
   "outputs": [],
   "source": [
    "x = 10 \n",
    "def function(x):\n",
    "    print(x)\n",
    "    x *2 \n",
    "    print(x)\n",
    "    return x"
   ]
  },
  {
   "cell_type": "code",
   "execution_count": 68,
   "id": "8384e400",
   "metadata": {},
   "outputs": [
    {
     "name": "stdout",
     "output_type": "stream",
     "text": [
      "3\n",
      "3\n"
     ]
    },
    {
     "data": {
      "text/plain": [
       "3"
      ]
     },
     "execution_count": 68,
     "metadata": {},
     "output_type": "execute_result"
    }
   ],
   "source": [
    "function(3)"
   ]
  },
  {
   "cell_type": "code",
   "execution_count": 69,
   "id": "06b8b08d",
   "metadata": {},
   "outputs": [
    {
     "data": {
      "text/plain": [
       "10"
      ]
     },
     "execution_count": 69,
     "metadata": {},
     "output_type": "execute_result"
    }
   ],
   "source": [
    "x\n"
   ]
  },
  {
   "cell_type": "code",
   "execution_count": 70,
   "id": "2d58c7a4",
   "metadata": {},
   "outputs": [],
   "source": [
    "a = 10\n",
    "def test(a):\n",
    "    print(a)\n",
    "    \n",
    "    \n",
    "    def test1(a):\n",
    "        print(a)\n",
    "        "
   ]
  },
  {
   "cell_type": "code",
   "execution_count": 71,
   "id": "e05b9c26",
   "metadata": {},
   "outputs": [
    {
     "data": {
      "text/plain": [
       "10"
      ]
     },
     "execution_count": 71,
     "metadata": {},
     "output_type": "execute_result"
    }
   ],
   "source": [
    "a"
   ]
  },
  {
   "cell_type": "code",
   "execution_count": 72,
   "id": "0b1517d5",
   "metadata": {},
   "outputs": [
    {
     "name": "stdout",
     "output_type": "stream",
     "text": [
      "4\n"
     ]
    }
   ],
   "source": [
    "test(4)"
   ]
  },
  {
   "cell_type": "code",
   "execution_count": 73,
   "id": "9a4e2c22",
   "metadata": {},
   "outputs": [
    {
     "ename": "NameError",
     "evalue": "name 'test1' is not defined",
     "output_type": "error",
     "traceback": [
      "\u001b[1;31m---------------------------------------------------------------------------\u001b[0m",
      "\u001b[1;31mNameError\u001b[0m                                 Traceback (most recent call last)",
      "Cell \u001b[1;32mIn[73], line 1\u001b[0m\n\u001b[1;32m----> 1\u001b[0m test1(\u001b[38;5;241m2\u001b[39m)\n",
      "\u001b[1;31mNameError\u001b[0m: name 'test1' is not defined"
     ]
    }
   ],
   "source": [
    "test1(2)"
   ]
  },
  {
   "cell_type": "code",
   "execution_count": 1,
   "id": "0b58fa16",
   "metadata": {},
   "outputs": [],
   "source": [
    "#classes OOP\n",
    "class Person():\n",
    "    #property özelikler\n",
    "   # name = \"\" bunları illede tanımlamak gerekmiyor pyton __init__ in altındaki self.name ,self.age yi tanımladığimizda anlar\n",
    "    #age = 0\n",
    "    #gender = \"\"\n",
    "    # initalizer method\n",
    "    # method , initializer / sınıfların içinde tanımlanan fonksiyonlara method denir\n",
    "    def __init__(self,name,age,gender):\n",
    "        self.name = name\n",
    "        self.age = age\n",
    "        self.gender = gender\n",
    "    #method\n",
    "    def test(self):\n",
    "        print(\"test\")\n",
    "person = Person(\"ahmet\",34,\"male\")\n"
   ]
  },
  {
   "cell_type": "code",
   "execution_count": 2,
   "id": "cc0ec6a0",
   "metadata": {},
   "outputs": [
    {
     "data": {
      "text/plain": [
       "'ahmet'"
      ]
     },
     "execution_count": 2,
     "metadata": {},
     "output_type": "execute_result"
    }
   ],
   "source": [
    "person.name\n"
   ]
  },
  {
   "cell_type": "code",
   "execution_count": null,
   "id": "e046e460",
   "metadata": {},
   "outputs": [],
   "source": []
  }
 ],
 "metadata": {
  "kernelspec": {
   "display_name": "Python 3 (ipykernel)",
   "language": "python",
   "name": "python3"
  },
  "language_info": {
   "codemirror_mode": {
    "name": "ipython",
    "version": 3
   },
   "file_extension": ".py",
   "mimetype": "text/x-python",
   "name": "python",
   "nbconvert_exporter": "python",
   "pygments_lexer": "ipython3",
   "version": "3.11.5"
  }
 },
 "nbformat": 4,
 "nbformat_minor": 5
}
