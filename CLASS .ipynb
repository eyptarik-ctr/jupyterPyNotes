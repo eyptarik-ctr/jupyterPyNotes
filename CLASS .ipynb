{
 "cells": [
  {
   "cell_type": "code",
   "execution_count": null,
   "id": "b8df5830",
   "metadata": {},
   "outputs": [],
   "source": [
    "# self keywordunu unutma"
   ]
  },
  {
   "cell_type": "code",
   "execution_count": 11,
   "id": "62cc14d7",
   "metadata": {},
   "outputs": [],
   "source": [
    "class Person():\n",
    "    #property\n",
    "    name = \"\"\n",
    "    age = 0\n",
    "    # methods\n",
    "    def __init__(self,name,age):\n",
    "        self.name = name\n",
    "        self.age = age\n",
    "    def converter(self):\n",
    "        return self.age*3"
   ]
  },
  {
   "cell_type": "code",
   "execution_count": 12,
   "id": "cb97bd67",
   "metadata": {},
   "outputs": [],
   "source": [
    "person = Person(\"ali\",23)"
   ]
  },
  {
   "cell_type": "code",
   "execution_count": 13,
   "id": "394bfebd",
   "metadata": {},
   "outputs": [
    {
     "data": {
      "text/plain": [
       "23"
      ]
     },
     "execution_count": 13,
     "metadata": {},
     "output_type": "execute_result"
    }
   ],
   "source": [
    "person.age"
   ]
  },
  {
   "cell_type": "code",
   "execution_count": 14,
   "id": "8e398c80",
   "metadata": {},
   "outputs": [
    {
     "data": {
      "text/plain": [
       "69"
      ]
     },
     "execution_count": 14,
     "metadata": {},
     "output_type": "execute_result"
    }
   ],
   "source": [
    "person.converter()"
   ]
  },
  {
   "cell_type": "code",
   "execution_count": 15,
   "id": "d6dfaf54",
   "metadata": {},
   "outputs": [],
   "source": [
    "class Newclass():\n",
    "    def __init__(self,phoneNo,gender):\n",
    "        self.phoneNo = phoneNo\n",
    "        self.gender = gender\n",
    "        "
   ]
  },
  {
   "cell_type": "code",
   "execution_count": 16,
   "id": "5cbd49b1",
   "metadata": {},
   "outputs": [],
   "source": [
    "user = Newclass(12,\"female\")"
   ]
  },
  {
   "cell_type": "code",
   "execution_count": 17,
   "id": "f953a72d",
   "metadata": {},
   "outputs": [
    {
     "data": {
      "text/plain": [
       "'female'"
      ]
     },
     "execution_count": 17,
     "metadata": {},
     "output_type": "execute_result"
    }
   ],
   "source": [
    "user.gender"
   ]
  },
  {
   "cell_type": "code",
   "execution_count": 18,
   "id": "8e092b53",
   "metadata": {},
   "outputs": [],
   "source": [
    "class Lastclass():\n",
    "    def __init__(self,no):\n",
    "        self.no = no"
   ]
  },
  {
   "cell_type": "code",
   "execution_count": 19,
   "id": "1d738cda",
   "metadata": {},
   "outputs": [],
   "source": [
    "x = Lastclass(2)"
   ]
  },
  {
   "cell_type": "code",
   "execution_count": 20,
   "id": "0cdd6c8a",
   "metadata": {},
   "outputs": [
    {
     "data": {
      "text/plain": [
       "2"
      ]
     },
     "execution_count": 20,
     "metadata": {},
     "output_type": "execute_result"
    }
   ],
   "source": [
    "x.no"
   ]
  },
  {
   "cell_type": "code",
   "execution_count": null,
   "id": "c60518ff",
   "metadata": {},
   "outputs": [],
   "source": []
  }
 ],
 "metadata": {
  "kernelspec": {
   "display_name": "Python 3 (ipykernel)",
   "language": "python",
   "name": "python3"
  },
  "language_info": {
   "codemirror_mode": {
    "name": "ipython",
    "version": 3
   },
   "file_extension": ".py",
   "mimetype": "text/x-python",
   "name": "python",
   "nbconvert_exporter": "python",
   "pygments_lexer": "ipython3",
   "version": "3.11.5"
  }
 },
 "nbformat": 4,
 "nbformat_minor": 5
}
