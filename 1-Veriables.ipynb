{
 "cells": [
  {
   "cell_type": "markdown",
   "id": "324b7f42",
   "metadata": {},
   "source": [
    "# Veriables"
   ]
  },
  {
   "cell_type": "code",
   "execution_count": null,
   "id": "f5addfb0",
   "metadata": {},
   "outputs": [],
   "source": [
    "# data types , veri tipleri"
   ]
  },
  {
   "cell_type": "code",
   "execution_count": 4,
   "id": "ec94e3fd",
   "metadata": {},
   "outputs": [
    {
     "data": {
      "text/plain": [
       "int"
      ]
     },
     "execution_count": 4,
     "metadata": {},
     "output_type": "execute_result"
    }
   ],
   "source": [
    "type(10) "
   ]
  },
  {
   "cell_type": "code",
   "execution_count": 5,
   "id": "58c7027e",
   "metadata": {},
   "outputs": [],
   "source": [
    "# int -> integer sayılar"
   ]
  },
  {
   "cell_type": "code",
   "execution_count": 6,
   "id": "1745290f",
   "metadata": {},
   "outputs": [
    {
     "data": {
      "text/plain": [
       "int"
      ]
     },
     "execution_count": 6,
     "metadata": {},
     "output_type": "execute_result"
    }
   ],
   "source": [
    "t = 3 \n",
    "type(t)"
   ]
  },
  {
   "cell_type": "code",
   "execution_count": 7,
   "id": "86cead03",
   "metadata": {},
   "outputs": [],
   "source": [
    "# float -> kesirli sayılar"
   ]
  },
  {
   "cell_type": "code",
   "execution_count": 9,
   "id": "59ea2e34",
   "metadata": {},
   "outputs": [
    {
     "data": {
      "text/plain": [
       "float"
      ]
     },
     "execution_count": 9,
     "metadata": {},
     "output_type": "execute_result"
    }
   ],
   "source": [
    "x = 3.14\n",
    "type(x)"
   ]
  },
  {
   "cell_type": "code",
   "execution_count": null,
   "id": "82feb928",
   "metadata": {},
   "outputs": [],
   "source": []
  }
 ],
 "metadata": {
  "kernelspec": {
   "display_name": "Python 3 (ipykernel)",
   "language": "python",
   "name": "python3"
  },
  "language_info": {
   "codemirror_mode": {
    "name": "ipython",
    "version": 3
   },
   "file_extension": ".py",
   "mimetype": "text/x-python",
   "name": "python",
   "nbconvert_exporter": "python",
   "pygments_lexer": "ipython3",
   "version": "3.11.5"
  }
 },
 "nbformat": 4,
 "nbformat_minor": 5
}
