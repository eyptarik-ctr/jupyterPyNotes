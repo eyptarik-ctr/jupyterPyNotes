{
 "cells": [
  {
   "cell_type": "code",
   "execution_count": 9,
   "id": "45e25f28",
   "metadata": {},
   "outputs": [
    {
     "name": "stdout",
     "output_type": "stream",
     "text": [
      "enter your age :5\n"
     ]
    }
   ],
   "source": [
    "age = input(\"enter your age :\")"
   ]
  },
  {
   "cell_type": "code",
   "execution_count": 10,
   "id": "09971a9f",
   "metadata": {},
   "outputs": [
    {
     "data": {
      "text/plain": [
       "20"
      ]
     },
     "execution_count": 10,
     "metadata": {},
     "output_type": "execute_result"
    }
   ],
   "source": [
    " int(age)*4"
   ]
  },
  {
   "cell_type": "code",
   "execution_count": 11,
   "id": "f404a4d3",
   "metadata": {},
   "outputs": [],
   "source": [
    "# try -- except"
   ]
  },
  {
   "cell_type": "code",
   "execution_count": 16,
   "id": "17c0ce2a",
   "metadata": {},
   "outputs": [
    {
     "name": "stdout",
     "output_type": "stream",
     "text": [
      "enter your age :rr\n",
      "enter your age with number!!!\n",
      "enter your age :rr\n",
      "enter your age with number!!!\n",
      "enter your age :e\n",
      "enter your age with number!!!\n",
      "enter your age :4\n",
      "8\n"
     ]
    }
   ],
   "source": [
    "while True:\n",
    "    \n",
    "    try:\n",
    "        userAge =int(input(\"enter your age :\"))\n",
    "        print(userAge*2)\n",
    "        break\n",
    "    except:\n",
    "        print(\"enter your age with number!!!\")"
   ]
  },
  {
   "cell_type": "code",
   "execution_count": 18,
   "id": "e30069b2",
   "metadata": {},
   "outputs": [
    {
     "name": "stdout",
     "output_type": "stream",
     "text": [
      "Writing myFile.txt\n"
     ]
    }
   ],
   "source": [
    "%%writefile myFile.txt\n",
    "test1 \n",
    "test2\n",
    "testDrive"
   ]
  },
  {
   "cell_type": "code",
   "execution_count": 19,
   "id": "018fc8a9",
   "metadata": {},
   "outputs": [],
   "source": [
    "myFile = open(\"myFile.txt\")"
   ]
  },
  {
   "cell_type": "code",
   "execution_count": 20,
   "id": "c77ac1ad",
   "metadata": {},
   "outputs": [
    {
     "data": {
      "text/plain": [
       "'test1 \\ntest2\\ntestDrive\\n'"
      ]
     },
     "execution_count": 20,
     "metadata": {},
     "output_type": "execute_result"
    }
   ],
   "source": [
    "myFile.read()"
   ]
  },
  {
   "cell_type": "code",
   "execution_count": 21,
   "id": "17e0b7fa",
   "metadata": {},
   "outputs": [
    {
     "data": {
      "text/plain": [
       "''"
      ]
     },
     "execution_count": 21,
     "metadata": {},
     "output_type": "execute_result"
    }
   ],
   "source": [
    "myFile.read()"
   ]
  },
  {
   "cell_type": "code",
   "execution_count": 22,
   "id": "ecd8ade7",
   "metadata": {},
   "outputs": [
    {
     "data": {
      "text/plain": [
       "0"
      ]
     },
     "execution_count": 22,
     "metadata": {},
     "output_type": "execute_result"
    }
   ],
   "source": [
    "myFile.seek(0)"
   ]
  },
  {
   "cell_type": "code",
   "execution_count": 23,
   "id": "734c7a6f",
   "metadata": {},
   "outputs": [
    {
     "data": {
      "text/plain": [
       "'test1 \\ntest2\\ntestDrive\\n'"
      ]
     },
     "execution_count": 23,
     "metadata": {},
     "output_type": "execute_result"
    }
   ],
   "source": [
    "myFile.read()"
   ]
  },
  {
   "cell_type": "code",
   "execution_count": 24,
   "id": "935568ca",
   "metadata": {},
   "outputs": [],
   "source": [
    "with open(\"myFile.txt\") as myFile:\n",
    "    myContent = myFile.read() "
   ]
  },
  {
   "cell_type": "code",
   "execution_count": 25,
   "id": "13cb0929",
   "metadata": {},
   "outputs": [
    {
     "data": {
      "text/plain": [
       "'test1 \\ntest2\\ntestDrive\\n'"
      ]
     },
     "execution_count": 25,
     "metadata": {},
     "output_type": "execute_result"
    }
   ],
   "source": [
    "myContent"
   ]
  },
  {
   "cell_type": "code",
   "execution_count": null,
   "id": "9bf36e11",
   "metadata": {},
   "outputs": [],
   "source": []
  }
 ],
 "metadata": {
  "kernelspec": {
   "display_name": "Python 3 (ipykernel)",
   "language": "python",
   "name": "python3"
  },
  "language_info": {
   "codemirror_mode": {
    "name": "ipython",
    "version": 3
   },
   "file_extension": ".py",
   "mimetype": "text/x-python",
   "name": "python",
   "nbconvert_exporter": "python",
   "pygments_lexer": "ipython3",
   "version": "3.11.5"
  }
 },
 "nbformat": 4,
 "nbformat_minor": 5
}
