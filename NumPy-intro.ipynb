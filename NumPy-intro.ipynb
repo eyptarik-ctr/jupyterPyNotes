{
 "cells": [
  {
   "cell_type": "code",
   "execution_count": 1,
   "id": "fb00a074",
   "metadata": {},
   "outputs": [
    {
     "name": "stdout",
     "output_type": "stream",
     "text": [
      "\n",
      "Note: you may need to restart the kernel to use updated packages.\n"
     ]
    }
   ],
   "source": [
    "conda install numpy"
   ]
  },
  {
   "cell_type": "code",
   "execution_count": 2,
   "id": "748416ad",
   "metadata": {},
   "outputs": [
    {
     "name": "stdout",
     "output_type": "stream",
     "text": [
      "Requirement already satisfied: numpy in c:\\users\\tarik\\anaconda\\lib\\site-packages (1.24.3)\n",
      "Note: you may need to restart the kernel to use updated packages.\n"
     ]
    }
   ],
   "source": [
    "pip install numpy"
   ]
  },
  {
   "cell_type": "code",
   "execution_count": 3,
   "id": "dd8dd9ec",
   "metadata": {},
   "outputs": [],
   "source": [
    "# numpy dizileri"
   ]
  },
  {
   "cell_type": "code",
   "execution_count": 4,
   "id": "d07ef1ca",
   "metadata": {},
   "outputs": [],
   "source": [
    "import numpy as np # --> as np np olaral demek"
   ]
  },
  {
   "cell_type": "markdown",
   "id": "a0ff17cd",
   "metadata": {},
   "source": [
    "# numpy array"
   ]
  },
  {
   "cell_type": "code",
   "execution_count": 5,
   "id": "97f8ff1d",
   "metadata": {},
   "outputs": [],
   "source": [
    "my_list = [10,20,30,40]"
   ]
  },
  {
   "cell_type": "code",
   "execution_count": 6,
   "id": "6b84d4b5",
   "metadata": {},
   "outputs": [
    {
     "data": {
      "text/plain": [
       "list"
      ]
     },
     "execution_count": 6,
     "metadata": {},
     "output_type": "execute_result"
    }
   ],
   "source": [
    "type(my_list)"
   ]
  },
  {
   "cell_type": "code",
   "execution_count": 7,
   "id": "859158ba",
   "metadata": {},
   "outputs": [
    {
     "data": {
      "text/plain": [
       "array([10, 20, 30, 40])"
      ]
     },
     "execution_count": 7,
     "metadata": {},
     "output_type": "execute_result"
    }
   ],
   "source": [
    "np.array(my_list)"
   ]
  },
  {
   "cell_type": "code",
   "execution_count": 8,
   "id": "76b8395e",
   "metadata": {},
   "outputs": [],
   "source": [
    "my_numpy_array = np.array(my_list)"
   ]
  },
  {
   "cell_type": "code",
   "execution_count": 9,
   "id": "ef857d94",
   "metadata": {},
   "outputs": [
    {
     "data": {
      "text/plain": [
       "array([10, 20, 30, 40])"
      ]
     },
     "execution_count": 9,
     "metadata": {},
     "output_type": "execute_result"
    }
   ],
   "source": [
    "my_numpy_array\n"
   ]
  },
  {
   "cell_type": "code",
   "execution_count": 10,
   "id": "d06a2871",
   "metadata": {},
   "outputs": [
    {
     "data": {
      "text/plain": [
       "numpy.ndarray"
      ]
     },
     "execution_count": 10,
     "metadata": {},
     "output_type": "execute_result"
    }
   ],
   "source": [
    "type(my_numpy_array)"
   ]
  },
  {
   "cell_type": "code",
   "execution_count": 11,
   "id": "eb8eef2e",
   "metadata": {},
   "outputs": [
    {
     "data": {
      "text/plain": [
       "10"
      ]
     },
     "execution_count": 11,
     "metadata": {},
     "output_type": "execute_result"
    }
   ],
   "source": [
    "my_numpy_array[0]"
   ]
  },
  {
   "cell_type": "code",
   "execution_count": 12,
   "id": "2f7d647b",
   "metadata": {},
   "outputs": [
    {
     "data": {
      "text/plain": [
       "30"
      ]
     },
     "execution_count": 12,
     "metadata": {},
     "output_type": "execute_result"
    }
   ],
   "source": [
    "my_numpy_array[-2]"
   ]
  },
  {
   "cell_type": "code",
   "execution_count": 13,
   "id": "d13f0fea",
   "metadata": {},
   "outputs": [
    {
     "data": {
      "text/plain": [
       "40"
      ]
     },
     "execution_count": 13,
     "metadata": {},
     "output_type": "execute_result"
    }
   ],
   "source": [
    "my_numpy_array.max()"
   ]
  },
  {
   "cell_type": "code",
   "execution_count": 14,
   "id": "af51e2bb",
   "metadata": {},
   "outputs": [],
   "source": [
    "my_numpy_array[1] = 100"
   ]
  },
  {
   "cell_type": "code",
   "execution_count": 15,
   "id": "1e618066",
   "metadata": {},
   "outputs": [
    {
     "data": {
      "text/plain": [
       "45.0"
      ]
     },
     "execution_count": 15,
     "metadata": {},
     "output_type": "execute_result"
    }
   ],
   "source": [
    "my_numpy_array.mean()"
   ]
  },
  {
   "cell_type": "code",
   "execution_count": 16,
   "id": "eb40e785",
   "metadata": {},
   "outputs": [],
   "source": [
    "# matris kolon ve sıraların olduğu dizeler"
   ]
  },
  {
   "cell_type": "code",
   "execution_count": 17,
   "id": "1b268896",
   "metadata": {},
   "outputs": [],
   "source": [
    "# matris özelikleri shape = şekil row by colum "
   ]
  },
  {
   "cell_type": "code",
   "execution_count": 18,
   "id": "9c398800",
   "metadata": {},
   "outputs": [],
   "source": [
    "matrix_list = [[1,0,0],[0,1,0],[0,0,1]]"
   ]
  },
  {
   "cell_type": "code",
   "execution_count": 19,
   "id": "c88767ac",
   "metadata": {},
   "outputs": [],
   "source": [
    "numpy_matrix_list = np.array(matrix_list)"
   ]
  },
  {
   "cell_type": "code",
   "execution_count": 20,
   "id": "19d11cec",
   "metadata": {},
   "outputs": [
    {
     "data": {
      "text/plain": [
       "array([[1, 0, 0],\n",
       "       [0, 1, 0],\n",
       "       [0, 0, 1]])"
      ]
     },
     "execution_count": 20,
     "metadata": {},
     "output_type": "execute_result"
    }
   ],
   "source": [
    "numpy_matrix_list"
   ]
  },
  {
   "cell_type": "code",
   "execution_count": 21,
   "id": "3c91d8ba",
   "metadata": {},
   "outputs": [
    {
     "data": {
      "text/plain": [
       "(3, 3)"
      ]
     },
     "execution_count": 21,
     "metadata": {},
     "output_type": "execute_result"
    }
   ],
   "source": [
    "numpy_matrix_list.shape"
   ]
  },
  {
   "cell_type": "markdown",
   "id": "98350012",
   "metadata": {},
   "source": [
    "# numpy random\n"
   ]
  },
  {
   "cell_type": "code",
   "execution_count": 22,
   "id": "958971f7",
   "metadata": {},
   "outputs": [
    {
     "data": {
      "text/plain": [
       "[1, 2, 3, 4]"
      ]
     },
     "execution_count": 22,
     "metadata": {},
     "output_type": "execute_result"
    }
   ],
   "source": [
    "list(range(1,5))"
   ]
  },
  {
   "cell_type": "code",
   "execution_count": 24,
   "id": "c5f683ab",
   "metadata": {},
   "outputs": [],
   "source": [
    "#arange --> numpy kodu"
   ]
  },
  {
   "cell_type": "code",
   "execution_count": 25,
   "id": "caa7350b",
   "metadata": {},
   "outputs": [
    {
     "data": {
      "text/plain": [
       "array([1, 2, 3, 4, 5, 6, 7, 8, 9])"
      ]
     },
     "execution_count": 25,
     "metadata": {},
     "output_type": "execute_result"
    }
   ],
   "source": [
    "np.arange(1,10) # -->  numpy dzizsi"
   ]
  },
  {
   "cell_type": "code",
   "execution_count": 26,
   "id": "af411d16",
   "metadata": {},
   "outputs": [
    {
     "data": {
      "text/plain": [
       "array([ 1,  6, 11, 16, 21, 26, 31, 36, 41])"
      ]
     },
     "execution_count": 26,
     "metadata": {},
     "output_type": "execute_result"
    }
   ],
   "source": [
    "np.arange(1,45,5)"
   ]
  },
  {
   "cell_type": "code",
   "execution_count": 27,
   "id": "d46417fb",
   "metadata": {},
   "outputs": [
    {
     "data": {
      "text/plain": [
       "array([0., 0., 0., 0., 0., 0., 0., 0., 0., 0.])"
      ]
     },
     "execution_count": 27,
     "metadata": {},
     "output_type": "execute_result"
    }
   ],
   "source": [
    "np.zeros(10)"
   ]
  },
  {
   "cell_type": "code",
   "execution_count": 29,
   "id": "296912d0",
   "metadata": {},
   "outputs": [
    {
     "data": {
      "text/plain": [
       "array([[0., 0., 0., 0., 0., 0., 0., 0., 0., 0.],\n",
       "       [0., 0., 0., 0., 0., 0., 0., 0., 0., 0.],\n",
       "       [0., 0., 0., 0., 0., 0., 0., 0., 0., 0.],\n",
       "       [0., 0., 0., 0., 0., 0., 0., 0., 0., 0.],\n",
       "       [0., 0., 0., 0., 0., 0., 0., 0., 0., 0.],\n",
       "       [0., 0., 0., 0., 0., 0., 0., 0., 0., 0.],\n",
       "       [0., 0., 0., 0., 0., 0., 0., 0., 0., 0.],\n",
       "       [0., 0., 0., 0., 0., 0., 0., 0., 0., 0.],\n",
       "       [0., 0., 0., 0., 0., 0., 0., 0., 0., 0.],\n",
       "       [0., 0., 0., 0., 0., 0., 0., 0., 0., 0.]])"
      ]
     },
     "execution_count": 29,
     "metadata": {},
     "output_type": "execute_result"
    }
   ],
   "source": [
    "np.zeros((10,10))"
   ]
  },
  {
   "cell_type": "code",
   "execution_count": 31,
   "id": "33558a96",
   "metadata": {},
   "outputs": [
    {
     "data": {
      "text/plain": [
       "array([[1., 1., 1., 1., 1., 1., 1., 1., 1., 1.],\n",
       "       [1., 1., 1., 1., 1., 1., 1., 1., 1., 1.],\n",
       "       [1., 1., 1., 1., 1., 1., 1., 1., 1., 1.],\n",
       "       [1., 1., 1., 1., 1., 1., 1., 1., 1., 1.],\n",
       "       [1., 1., 1., 1., 1., 1., 1., 1., 1., 1.],\n",
       "       [1., 1., 1., 1., 1., 1., 1., 1., 1., 1.],\n",
       "       [1., 1., 1., 1., 1., 1., 1., 1., 1., 1.],\n",
       "       [1., 1., 1., 1., 1., 1., 1., 1., 1., 1.],\n",
       "       [1., 1., 1., 1., 1., 1., 1., 1., 1., 1.],\n",
       "       [1., 1., 1., 1., 1., 1., 1., 1., 1., 1.]])"
      ]
     },
     "execution_count": 31,
     "metadata": {},
     "output_type": "execute_result"
    }
   ],
   "source": [
    "np.ones((10,10))"
   ]
  },
  {
   "cell_type": "code",
   "execution_count": 32,
   "id": "63278aca",
   "metadata": {},
   "outputs": [],
   "source": [
    "# linsapce --> eşit aralıklara artan bir dizi oluşturur"
   ]
  },
  {
   "cell_type": "code",
   "execution_count": 33,
   "id": "81b5c304",
   "metadata": {},
   "outputs": [
    {
     "data": {
      "text/plain": [
       "array([ 0.        ,  0.52631579,  1.05263158,  1.57894737,  2.10526316,\n",
       "        2.63157895,  3.15789474,  3.68421053,  4.21052632,  4.73684211,\n",
       "        5.26315789,  5.78947368,  6.31578947,  6.84210526,  7.36842105,\n",
       "        7.89473684,  8.42105263,  8.94736842,  9.47368421, 10.        ])"
      ]
     },
     "execution_count": 33,
     "metadata": {},
     "output_type": "execute_result"
    }
   ],
   "source": [
    "np.linspace(0 , 10 , 20)"
   ]
  },
  {
   "cell_type": "code",
   "execution_count": 34,
   "id": "9cd24196",
   "metadata": {},
   "outputs": [
    {
     "data": {
      "text/plain": [
       "array([ 0.        ,  0.2020202 ,  0.4040404 ,  0.60606061,  0.80808081,\n",
       "        1.01010101,  1.21212121,  1.41414141,  1.61616162,  1.81818182,\n",
       "        2.02020202,  2.22222222,  2.42424242,  2.62626263,  2.82828283,\n",
       "        3.03030303,  3.23232323,  3.43434343,  3.63636364,  3.83838384,\n",
       "        4.04040404,  4.24242424,  4.44444444,  4.64646465,  4.84848485,\n",
       "        5.05050505,  5.25252525,  5.45454545,  5.65656566,  5.85858586,\n",
       "        6.06060606,  6.26262626,  6.46464646,  6.66666667,  6.86868687,\n",
       "        7.07070707,  7.27272727,  7.47474747,  7.67676768,  7.87878788,\n",
       "        8.08080808,  8.28282828,  8.48484848,  8.68686869,  8.88888889,\n",
       "        9.09090909,  9.29292929,  9.49494949,  9.6969697 ,  9.8989899 ,\n",
       "       10.1010101 , 10.3030303 , 10.50505051, 10.70707071, 10.90909091,\n",
       "       11.11111111, 11.31313131, 11.51515152, 11.71717172, 11.91919192,\n",
       "       12.12121212, 12.32323232, 12.52525253, 12.72727273, 12.92929293,\n",
       "       13.13131313, 13.33333333, 13.53535354, 13.73737374, 13.93939394,\n",
       "       14.14141414, 14.34343434, 14.54545455, 14.74747475, 14.94949495,\n",
       "       15.15151515, 15.35353535, 15.55555556, 15.75757576, 15.95959596,\n",
       "       16.16161616, 16.36363636, 16.56565657, 16.76767677, 16.96969697,\n",
       "       17.17171717, 17.37373737, 17.57575758, 17.77777778, 17.97979798,\n",
       "       18.18181818, 18.38383838, 18.58585859, 18.78787879, 18.98989899,\n",
       "       19.19191919, 19.39393939, 19.5959596 , 19.7979798 , 20.        ])"
      ]
     },
     "execution_count": 34,
     "metadata": {},
     "output_type": "execute_result"
    }
   ],
   "source": [
    "np.linspace(0 ,20,100 )"
   ]
  },
  {
   "cell_type": "code",
   "execution_count": 35,
   "id": "64b01008",
   "metadata": {},
   "outputs": [],
   "source": [
    "# random "
   ]
  },
  {
   "cell_type": "code",
   "execution_count": 36,
   "id": "b40951a5",
   "metadata": {},
   "outputs": [
    {
     "data": {
      "text/plain": [
       "10"
      ]
     },
     "execution_count": 36,
     "metadata": {},
     "output_type": "execute_result"
    }
   ],
   "source": [
    "np.random.randint(1,20)"
   ]
  },
  {
   "cell_type": "code",
   "execution_count": 37,
   "id": "2c29882d",
   "metadata": {},
   "outputs": [
    {
     "data": {
      "text/plain": [
       "array([11, 15, 17, 14, 11, 12, 17, 18, 13, 11, 19, 14, 12, 18, 11, 19, 11,\n",
       "       14, 14, 11, 11, 10, 16, 19, 18, 11, 19, 18, 16, 18, 18, 14, 10, 12,\n",
       "       17, 10, 14, 18, 15, 13])"
      ]
     },
     "execution_count": 37,
     "metadata": {},
     "output_type": "execute_result"
    }
   ],
   "source": [
    "np.random.randint(10,20,40)"
   ]
  },
  {
   "cell_type": "code",
   "execution_count": 38,
   "id": "2b985375",
   "metadata": {},
   "outputs": [],
   "source": [
    "# numpy arrays methods"
   ]
  },
  {
   "cell_type": "code",
   "execution_count": 39,
   "id": "5103ff18",
   "metadata": {},
   "outputs": [],
   "source": [
    "my_np_aray = np.arange(1,20)"
   ]
  },
  {
   "cell_type": "code",
   "execution_count": 40,
   "id": "e375a1c3",
   "metadata": {},
   "outputs": [
    {
     "data": {
      "text/plain": [
       "30"
      ]
     },
     "execution_count": 40,
     "metadata": {},
     "output_type": "execute_result"
    }
   ],
   "source": [
    "my_numpy_array[2]"
   ]
  },
  {
   "cell_type": "code",
   "execution_count": 41,
   "id": "e4c1d829",
   "metadata": {},
   "outputs": [
    {
     "data": {
      "text/plain": [
       "3"
      ]
     },
     "execution_count": 41,
     "metadata": {},
     "output_type": "execute_result"
    }
   ],
   "source": [
    "my_np_aray[2]"
   ]
  },
  {
   "cell_type": "code",
   "execution_count": 42,
   "id": "ca0261d5",
   "metadata": {},
   "outputs": [
    {
     "data": {
      "text/plain": [
       "array([ 2,  4,  6,  8, 10, 12, 14, 16])"
      ]
     },
     "execution_count": 42,
     "metadata": {},
     "output_type": "execute_result"
    }
   ],
   "source": [
    "my_np_aray[1:17:2]"
   ]
  },
  {
   "cell_type": "code",
   "execution_count": 43,
   "id": "7883d7ab",
   "metadata": {},
   "outputs": [],
   "source": [
    "my_list1 = list(range(1,20))"
   ]
  },
  {
   "cell_type": "code",
   "execution_count": 45,
   "id": "514e10bf",
   "metadata": {},
   "outputs": [],
   "source": [
    "#my_list1[4:15] = 30 normal listeler buna izn vermez "
   ]
  },
  {
   "cell_type": "code",
   "execution_count": 46,
   "id": "e2f5f6ab",
   "metadata": {},
   "outputs": [],
   "source": [
    "my_np_aray[3:13] = 40"
   ]
  },
  {
   "cell_type": "code",
   "execution_count": 47,
   "id": "36ed34e0",
   "metadata": {},
   "outputs": [
    {
     "data": {
      "text/plain": [
       "array([ 1,  2,  3, 40, 40, 40, 40, 40, 40, 40, 40, 40, 40, 14, 15, 16, 17,\n",
       "       18, 19])"
      ]
     },
     "execution_count": 47,
     "metadata": {},
     "output_type": "execute_result"
    }
   ],
   "source": [
    "my_np_aray"
   ]
  },
  {
   "cell_type": "code",
   "execution_count": 48,
   "id": "3d39485a",
   "metadata": {},
   "outputs": [],
   "source": [
    "other_array = np.arange(1,30)"
   ]
  },
  {
   "cell_type": "code",
   "execution_count": 49,
   "id": "0701c078",
   "metadata": {},
   "outputs": [],
   "source": [
    "other_sliceingList = other_array[2:22]"
   ]
  },
  {
   "cell_type": "code",
   "execution_count": 50,
   "id": "d6809410",
   "metadata": {
    "scrolled": false
   },
   "outputs": [
    {
     "data": {
      "text/plain": [
       "array([ 3,  4,  5,  6,  7,  8,  9, 10, 11, 12, 13, 14, 15, 16, 17, 18, 19,\n",
       "       20, 21, 22])"
      ]
     },
     "execution_count": 50,
     "metadata": {},
     "output_type": "execute_result"
    }
   ],
   "source": [
    "other_sliceingList"
   ]
  },
  {
   "cell_type": "code",
   "execution_count": 51,
   "id": "6905121f",
   "metadata": {},
   "outputs": [],
   "source": [
    "other_sliceingList[:] = 100"
   ]
  },
  {
   "cell_type": "code",
   "execution_count": 52,
   "id": "062aef30",
   "metadata": {},
   "outputs": [
    {
     "data": {
      "text/plain": [
       "array([100, 100, 100, 100, 100, 100, 100, 100, 100, 100, 100, 100, 100,\n",
       "       100, 100, 100, 100, 100, 100, 100])"
      ]
     },
     "execution_count": 52,
     "metadata": {},
     "output_type": "execute_result"
    }
   ],
   "source": [
    "other_sliceingList"
   ]
  },
  {
   "cell_type": "code",
   "execution_count": 53,
   "id": "702db4cb",
   "metadata": {},
   "outputs": [
    {
     "data": {
      "text/plain": [
       "array([  1,   2, 100, 100, 100, 100, 100, 100, 100, 100, 100, 100, 100,\n",
       "       100, 100, 100, 100, 100, 100, 100, 100, 100,  23,  24,  25,  26,\n",
       "        27,  28,  29])"
      ]
     },
     "execution_count": 53,
     "metadata": {},
     "output_type": "execute_result"
    }
   ],
   "source": [
    "other_array"
   ]
  },
  {
   "cell_type": "code",
   "execution_count": 54,
   "id": "2f5c259e",
   "metadata": {},
   "outputs": [],
   "source": [
    "numpy_list2 = np.arange(1,8)"
   ]
  },
  {
   "cell_type": "code",
   "execution_count": 55,
   "id": "bb460d18",
   "metadata": {},
   "outputs": [
    {
     "data": {
      "text/plain": [
       "array([1, 2, 3, 4, 5, 6, 7])"
      ]
     },
     "execution_count": 55,
     "metadata": {},
     "output_type": "execute_result"
    }
   ],
   "source": [
    "numpy_list2"
   ]
  },
  {
   "cell_type": "code",
   "execution_count": 57,
   "id": "c37ac6cc",
   "metadata": {},
   "outputs": [],
   "source": [
    "numpy_list2_copy = numpy_list2.copy()"
   ]
  },
  {
   "cell_type": "code",
   "execution_count": 58,
   "id": "1d70be00",
   "metadata": {},
   "outputs": [
    {
     "data": {
      "text/plain": [
       "array([1, 2, 3, 4, 5, 6, 7])"
      ]
     },
     "execution_count": 58,
     "metadata": {},
     "output_type": "execute_result"
    }
   ],
   "source": [
    "numpy_list2_copy"
   ]
  },
  {
   "cell_type": "code",
   "execution_count": 59,
   "id": "aba51f18",
   "metadata": {},
   "outputs": [],
   "source": [
    "# numpy operations with numpy arrays"
   ]
  },
  {
   "cell_type": "code",
   "execution_count": 65,
   "id": "be654194",
   "metadata": {},
   "outputs": [],
   "source": [
    "new_array1 = np.random.randint(1,200,50)"
   ]
  },
  {
   "cell_type": "code",
   "execution_count": 66,
   "id": "b328870e",
   "metadata": {},
   "outputs": [
    {
     "data": {
      "text/plain": [
       "array([ 95,   6, 139, 141,   7,  80, 173, 197,  52, 131,  35, 196, 147,\n",
       "        31,  16, 102,  53,  31, 199, 104, 148, 176,  24,  48, 170, 124,\n",
       "        24, 177,  87,  56, 193, 179, 162, 156, 156,  97, 129, 198,  14,\n",
       "        68, 104,  54, 154,   7,  41, 149,  82,  52, 175,  53])"
      ]
     },
     "execution_count": 66,
     "metadata": {},
     "output_type": "execute_result"
    }
   ],
   "source": [
    "new_array1"
   ]
  },
  {
   "cell_type": "code",
   "execution_count": 67,
   "id": "978b327a",
   "metadata": {},
   "outputs": [
    {
     "data": {
      "text/plain": [
       "array([ True, False,  True,  True, False,  True,  True,  True,  True,\n",
       "        True, False,  True,  True, False, False,  True,  True, False,\n",
       "        True,  True,  True,  True, False, False,  True,  True, False,\n",
       "        True,  True,  True,  True,  True,  True,  True,  True,  True,\n",
       "        True,  True, False,  True,  True,  True,  True, False, False,\n",
       "        True,  True,  True,  True,  True])"
      ]
     },
     "execution_count": 67,
     "metadata": {},
     "output_type": "execute_result"
    }
   ],
   "source": [
    "new_array1 > 50"
   ]
  },
  {
   "cell_type": "code",
   "execution_count": 68,
   "id": "5057de01",
   "metadata": {},
   "outputs": [
    {
     "data": {
      "text/plain": [
       "array([ 95, 139, 141,  80, 173, 197,  52, 131, 196, 147, 102,  53, 199,\n",
       "       104, 148, 176, 170, 124, 177,  87,  56, 193, 179, 162, 156, 156,\n",
       "        97, 129, 198,  68, 104,  54, 154, 149,  82,  52, 175,  53])"
      ]
     },
     "execution_count": 68,
     "metadata": {},
     "output_type": "execute_result"
    }
   ],
   "source": [
    "new_array1[new_array1 > 50] "
   ]
  },
  {
   "cell_type": "code",
   "execution_count": 69,
   "id": "cfd6c3f1",
   "metadata": {},
   "outputs": [
    {
     "data": {
      "text/plain": [
       "103.84"
      ]
     },
     "execution_count": 69,
     "metadata": {},
     "output_type": "execute_result"
    }
   ],
   "source": [
    "new_array1.mean()"
   ]
  },
  {
   "cell_type": "code",
   "execution_count": 70,
   "id": "8b40bde6",
   "metadata": {},
   "outputs": [],
   "source": [
    "lastArray = np.arange(1,200)"
   ]
  },
  {
   "cell_type": "code",
   "execution_count": 71,
   "id": "3de38759",
   "metadata": {},
   "outputs": [
    {
     "data": {
      "text/plain": [
       "array([  1,   2,   3,   4,   5,   6,   7,   8,   9,  10,  11,  12,  13,\n",
       "        14,  15,  16,  17,  18,  19,  20,  21,  22,  23,  24,  25,  26,\n",
       "        27,  28,  29,  30,  31,  32,  33,  34,  35,  36,  37,  38,  39,\n",
       "        40,  41,  42,  43,  44,  45,  46,  47,  48,  49,  50,  51,  52,\n",
       "        53,  54,  55,  56,  57,  58,  59,  60,  61,  62,  63,  64,  65,\n",
       "        66,  67,  68,  69,  70,  71,  72,  73,  74,  75,  76,  77,  78,\n",
       "        79,  80,  81,  82,  83,  84,  85,  86,  87,  88,  89,  90,  91,\n",
       "        92,  93,  94,  95,  96,  97,  98,  99, 100, 101, 102, 103, 104,\n",
       "       105, 106, 107, 108, 109, 110, 111, 112, 113, 114, 115, 116, 117,\n",
       "       118, 119, 120, 121, 122, 123, 124, 125, 126, 127, 128, 129, 130,\n",
       "       131, 132, 133, 134, 135, 136, 137, 138, 139, 140, 141, 142, 143,\n",
       "       144, 145, 146, 147, 148, 149, 150, 151, 152, 153, 154, 155, 156,\n",
       "       157, 158, 159, 160, 161, 162, 163, 164, 165, 166, 167, 168, 169,\n",
       "       170, 171, 172, 173, 174, 175, 176, 177, 178, 179, 180, 181, 182,\n",
       "       183, 184, 185, 186, 187, 188, 189, 190, 191, 192, 193, 194, 195,\n",
       "       196, 197, 198, 199])"
      ]
     },
     "execution_count": 71,
     "metadata": {},
     "output_type": "execute_result"
    }
   ],
   "source": [
    "lastArray"
   ]
  },
  {
   "cell_type": "code",
   "execution_count": 72,
   "id": "fd082ea8",
   "metadata": {},
   "outputs": [
    {
     "data": {
      "text/plain": [
       "array([    1,     4,     9,    16,    25,    36,    49,    64,    81,\n",
       "         100,   121,   144,   169,   196,   225,   256,   289,   324,\n",
       "         361,   400,   441,   484,   529,   576,   625,   676,   729,\n",
       "         784,   841,   900,   961,  1024,  1089,  1156,  1225,  1296,\n",
       "        1369,  1444,  1521,  1600,  1681,  1764,  1849,  1936,  2025,\n",
       "        2116,  2209,  2304,  2401,  2500,  2601,  2704,  2809,  2916,\n",
       "        3025,  3136,  3249,  3364,  3481,  3600,  3721,  3844,  3969,\n",
       "        4096,  4225,  4356,  4489,  4624,  4761,  4900,  5041,  5184,\n",
       "        5329,  5476,  5625,  5776,  5929,  6084,  6241,  6400,  6561,\n",
       "        6724,  6889,  7056,  7225,  7396,  7569,  7744,  7921,  8100,\n",
       "        8281,  8464,  8649,  8836,  9025,  9216,  9409,  9604,  9801,\n",
       "       10000, 10201, 10404, 10609, 10816, 11025, 11236, 11449, 11664,\n",
       "       11881, 12100, 12321, 12544, 12769, 12996, 13225, 13456, 13689,\n",
       "       13924, 14161, 14400, 14641, 14884, 15129, 15376, 15625, 15876,\n",
       "       16129, 16384, 16641, 16900, 17161, 17424, 17689, 17956, 18225,\n",
       "       18496, 18769, 19044, 19321, 19600, 19881, 20164, 20449, 20736,\n",
       "       21025, 21316, 21609, 21904, 22201, 22500, 22801, 23104, 23409,\n",
       "       23716, 24025, 24336, 24649, 24964, 25281, 25600, 25921, 26244,\n",
       "       26569, 26896, 27225, 27556, 27889, 28224, 28561, 28900, 29241,\n",
       "       29584, 29929, 30276, 30625, 30976, 31329, 31684, 32041, 32400,\n",
       "       32761, 33124, 33489, 33856, 34225, 34596, 34969, 35344, 35721,\n",
       "       36100, 36481, 36864, 37249, 37636, 38025, 38416, 38809, 39204,\n",
       "       39601])"
      ]
     },
     "execution_count": 72,
     "metadata": {},
     "output_type": "execute_result"
    }
   ],
   "source": [
    "lastArray * lastArray"
   ]
  },
  {
   "cell_type": "code",
   "execution_count": 73,
   "id": "0d33fa93",
   "metadata": {},
   "outputs": [
    {
     "data": {
      "text/plain": [
       "array([1., 1., 1., 1., 1., 1., 1., 1., 1., 1., 1., 1., 1., 1., 1., 1., 1.,\n",
       "       1., 1., 1., 1., 1., 1., 1., 1., 1., 1., 1., 1., 1., 1., 1., 1., 1.,\n",
       "       1., 1., 1., 1., 1., 1., 1., 1., 1., 1., 1., 1., 1., 1., 1., 1., 1.,\n",
       "       1., 1., 1., 1., 1., 1., 1., 1., 1., 1., 1., 1., 1., 1., 1., 1., 1.,\n",
       "       1., 1., 1., 1., 1., 1., 1., 1., 1., 1., 1., 1., 1., 1., 1., 1., 1.,\n",
       "       1., 1., 1., 1., 1., 1., 1., 1., 1., 1., 1., 1., 1., 1., 1., 1., 1.,\n",
       "       1., 1., 1., 1., 1., 1., 1., 1., 1., 1., 1., 1., 1., 1., 1., 1., 1.,\n",
       "       1., 1., 1., 1., 1., 1., 1., 1., 1., 1., 1., 1., 1., 1., 1., 1., 1.,\n",
       "       1., 1., 1., 1., 1., 1., 1., 1., 1., 1., 1., 1., 1., 1., 1., 1., 1.,\n",
       "       1., 1., 1., 1., 1., 1., 1., 1., 1., 1., 1., 1., 1., 1., 1., 1., 1.,\n",
       "       1., 1., 1., 1., 1., 1., 1., 1., 1., 1., 1., 1., 1., 1., 1., 1., 1.,\n",
       "       1., 1., 1., 1., 1., 1., 1., 1., 1., 1., 1., 1.])"
      ]
     },
     "execution_count": 73,
     "metadata": {},
     "output_type": "execute_result"
    }
   ],
   "source": [
    "lastArray / lastArray"
   ]
  },
  {
   "cell_type": "code",
   "execution_count": 74,
   "id": "d024b54a",
   "metadata": {},
   "outputs": [
    {
     "data": {
      "text/plain": [
       "array([0, 0, 0, 0, 0, 0, 0, 0, 0, 0, 0, 0, 0, 0, 0, 0, 0, 0, 0, 0, 0, 0,\n",
       "       0, 0, 0, 0, 0, 0, 0, 0, 0, 0, 0, 0, 0, 0, 0, 0, 0, 0, 0, 0, 0, 0,\n",
       "       0, 0, 0, 0, 0, 0, 0, 0, 0, 0, 0, 0, 0, 0, 0, 0, 0, 0, 0, 0, 0, 0,\n",
       "       0, 0, 0, 0, 0, 0, 0, 0, 0, 0, 0, 0, 0, 0, 0, 0, 0, 0, 0, 0, 0, 0,\n",
       "       0, 0, 0, 0, 0, 0, 0, 0, 0, 0, 0, 0, 0, 0, 0, 0, 0, 0, 0, 0, 0, 0,\n",
       "       0, 0, 0, 0, 0, 0, 0, 0, 0, 0, 0, 0, 0, 0, 0, 0, 0, 0, 0, 0, 0, 0,\n",
       "       0, 0, 0, 0, 0, 0, 0, 0, 0, 0, 0, 0, 0, 0, 0, 0, 0, 0, 0, 0, 0, 0,\n",
       "       0, 0, 0, 0, 0, 0, 0, 0, 0, 0, 0, 0, 0, 0, 0, 0, 0, 0, 0, 0, 0, 0,\n",
       "       0, 0, 0, 0, 0, 0, 0, 0, 0, 0, 0, 0, 0, 0, 0, 0, 0, 0, 0, 0, 0, 0,\n",
       "       0])"
      ]
     },
     "execution_count": 74,
     "metadata": {},
     "output_type": "execute_result"
    }
   ],
   "source": [
    "lastArray - lastArray"
   ]
  },
  {
   "cell_type": "code",
   "execution_count": 75,
   "id": "0d5daab5",
   "metadata": {},
   "outputs": [
    {
     "data": {
      "text/plain": [
       "199"
      ]
     },
     "execution_count": 75,
     "metadata": {},
     "output_type": "execute_result"
    }
   ],
   "source": [
    "lastArray.max()"
   ]
  },
  {
   "cell_type": "code",
   "execution_count": 76,
   "id": "dcedb58f",
   "metadata": {},
   "outputs": [
    {
     "data": {
      "text/plain": [
       "199"
      ]
     },
     "execution_count": 76,
     "metadata": {},
     "output_type": "execute_result"
    }
   ],
   "source": [
    "np.max(lastArray)"
   ]
  },
  {
   "cell_type": "code",
   "execution_count": 77,
   "id": "90e6c414",
   "metadata": {},
   "outputs": [
    {
     "data": {
      "text/plain": [
       "array([ 1.        ,  1.41421356,  1.73205081,  2.        ,  2.23606798,\n",
       "        2.44948974,  2.64575131,  2.82842712,  3.        ,  3.16227766,\n",
       "        3.31662479,  3.46410162,  3.60555128,  3.74165739,  3.87298335,\n",
       "        4.        ,  4.12310563,  4.24264069,  4.35889894,  4.47213595,\n",
       "        4.58257569,  4.69041576,  4.79583152,  4.89897949,  5.        ,\n",
       "        5.09901951,  5.19615242,  5.29150262,  5.38516481,  5.47722558,\n",
       "        5.56776436,  5.65685425,  5.74456265,  5.83095189,  5.91607978,\n",
       "        6.        ,  6.08276253,  6.164414  ,  6.244998  ,  6.32455532,\n",
       "        6.40312424,  6.4807407 ,  6.55743852,  6.63324958,  6.70820393,\n",
       "        6.78232998,  6.8556546 ,  6.92820323,  7.        ,  7.07106781,\n",
       "        7.14142843,  7.21110255,  7.28010989,  7.34846923,  7.41619849,\n",
       "        7.48331477,  7.54983444,  7.61577311,  7.68114575,  7.74596669,\n",
       "        7.81024968,  7.87400787,  7.93725393,  8.        ,  8.06225775,\n",
       "        8.1240384 ,  8.18535277,  8.24621125,  8.30662386,  8.36660027,\n",
       "        8.42614977,  8.48528137,  8.54400375,  8.60232527,  8.66025404,\n",
       "        8.71779789,  8.77496439,  8.83176087,  8.88819442,  8.94427191,\n",
       "        9.        ,  9.05538514,  9.11043358,  9.16515139,  9.21954446,\n",
       "        9.2736185 ,  9.32737905,  9.38083152,  9.43398113,  9.48683298,\n",
       "        9.53939201,  9.59166305,  9.64365076,  9.69535971,  9.74679434,\n",
       "        9.79795897,  9.8488578 ,  9.89949494,  9.94987437, 10.        ,\n",
       "       10.04987562, 10.09950494, 10.14889157, 10.19803903, 10.24695077,\n",
       "       10.29563014, 10.34408043, 10.39230485, 10.44030651, 10.48808848,\n",
       "       10.53565375, 10.58300524, 10.63014581, 10.67707825, 10.72380529,\n",
       "       10.77032961, 10.81665383, 10.86278049, 10.90871211, 10.95445115,\n",
       "       11.        , 11.04536102, 11.09053651, 11.13552873, 11.18033989,\n",
       "       11.22497216, 11.26942767, 11.3137085 , 11.35781669, 11.40175425,\n",
       "       11.44552314, 11.48912529, 11.53256259, 11.5758369 , 11.61895004,\n",
       "       11.66190379, 11.70469991, 11.74734012, 11.78982612, 11.83215957,\n",
       "       11.87434209, 11.91637529, 11.95826074, 12.        , 12.04159458,\n",
       "       12.08304597, 12.12435565, 12.16552506, 12.20655562, 12.24744871,\n",
       "       12.28820573, 12.32882801, 12.36931688, 12.40967365, 12.4498996 ,\n",
       "       12.489996  , 12.52996409, 12.56980509, 12.60952021, 12.64911064,\n",
       "       12.68857754, 12.72792206, 12.76714533, 12.80624847, 12.84523258,\n",
       "       12.88409873, 12.92284798, 12.9614814 , 13.        , 13.03840481,\n",
       "       13.07669683, 13.11487705, 13.15294644, 13.19090596, 13.22875656,\n",
       "       13.26649916, 13.3041347 , 13.34166406, 13.37908816, 13.41640786,\n",
       "       13.45362405, 13.49073756, 13.52774926, 13.56465997, 13.60147051,\n",
       "       13.6381817 , 13.67479433, 13.7113092 , 13.74772708, 13.78404875,\n",
       "       13.82027496, 13.85640646, 13.89244399, 13.92838828, 13.96424004,\n",
       "       14.        , 14.03566885, 14.07124728, 14.10673598])"
      ]
     },
     "execution_count": 77,
     "metadata": {},
     "output_type": "execute_result"
    }
   ],
   "source": [
    "np.sqrt(lastArray)"
   ]
  },
  {
   "cell_type": "code",
   "execution_count": null,
   "id": "9d7b8b37",
   "metadata": {},
   "outputs": [],
   "source": []
  }
 ],
 "metadata": {
  "kernelspec": {
   "display_name": "Python 3 (ipykernel)",
   "language": "python",
   "name": "python3"
  },
  "language_info": {
   "codemirror_mode": {
    "name": "ipython",
    "version": 3
   },
   "file_extension": ".py",
   "mimetype": "text/x-python",
   "name": "python",
   "nbconvert_exporter": "python",
   "pygments_lexer": "ipython3",
   "version": "3.11.5"
  }
 },
 "nbformat": 4,
 "nbformat_minor": 5
}
